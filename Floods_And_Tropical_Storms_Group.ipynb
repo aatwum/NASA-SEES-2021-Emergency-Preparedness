{
  "nbformat": 4,
  "nbformat_minor": 0,
  "metadata": {
    "colab": {
      "name": "Time Series Charts/Animation of Soil Moisture/Precipitation in Florida-Carribean Region.ipynb",
      "provenance": [],
      "collapsed_sections": [
        "pIfbvQEmqKLO",
        "o1A9nKxEr6nn",
        "Ibytu2ehsR8i",
        "h7jDeXo4R5Zk",
        "e-fMjLQHsZFl",
        "vIxarluesmk3",
        "Vp1LSCqFs3So",
        "2r25HjnRtHX-",
        "nDnZ3eJCtXWu",
        "iunkxQIPtupz",
        "-QhEKMxIhJGk",
        "4N_uWc7KpeO7",
        "XsxJZ04muhCu",
        "yJJ1LsRXczRB"
      ],
      "include_colab_link": true
    },
    "kernelspec": {
      "name": "python3",
      "display_name": "Python 3"
    },
    "language_info": {
      "name": "python"
    },
    "widgets": {
      "application/vnd.jupyter.widget-state+json": {
        "0544bb319bad422084b6fec63b23c607": {
          "model_module": "@jupyter-widgets/output",
          "model_name": "OutputModel",
          "state": {
            "_view_name": "OutputView",
            "msg_id": "",
            "_dom_classes": [],
            "_model_name": "OutputModel",
            "outputs": [
              {
                "output_type": "display_data",
                "metadata": {
                  "tags": []
                },
                "application/vnd.jupyter.widget-view+json": {
                  "model_id": "cc55fecbb03a4e6ba2cc5fa96fb7dc00",
                  "version_minor": 0,
                  "version_major": 2
                },
                "text/plain": "Image(value=b'GIF89a\\xa0\\x01\\xf4\\x01\\xf7\\x1f\\x00\\x00\\x00\\x00$\\x00\\x00H\\x00\\x00l\\x00\\x00\\x90\\x00\\x00\\xb4\\x00\\x0…"
              }
            ],
            "_view_module": "@jupyter-widgets/output",
            "_model_module_version": "1.0.0",
            "_view_count": null,
            "_view_module_version": "1.0.0",
            "layout": "IPY_MODEL_5ae8b7769bdc4b5faf03fc2d73278c4d",
            "_model_module": "@jupyter-widgets/output"
          }
        },
        "5ae8b7769bdc4b5faf03fc2d73278c4d": {
          "model_module": "@jupyter-widgets/base",
          "model_name": "LayoutModel",
          "state": {
            "_view_name": "LayoutView",
            "grid_template_rows": null,
            "right": null,
            "justify_content": null,
            "_view_module": "@jupyter-widgets/base",
            "overflow": null,
            "_model_module_version": "1.2.0",
            "_view_count": null,
            "flex_flow": null,
            "width": null,
            "min_width": null,
            "border": null,
            "align_items": null,
            "bottom": null,
            "_model_module": "@jupyter-widgets/base",
            "top": null,
            "grid_column": null,
            "overflow_y": null,
            "overflow_x": null,
            "grid_auto_flow": null,
            "grid_area": null,
            "grid_template_columns": null,
            "flex": null,
            "_model_name": "LayoutModel",
            "justify_items": null,
            "grid_row": null,
            "max_height": null,
            "align_content": null,
            "visibility": null,
            "align_self": null,
            "height": null,
            "min_height": null,
            "padding": null,
            "grid_auto_rows": null,
            "grid_gap": null,
            "max_width": null,
            "order": null,
            "_view_module_version": "1.2.0",
            "grid_template_areas": null,
            "object_position": null,
            "object_fit": null,
            "grid_auto_columns": null,
            "margin": null,
            "display": null,
            "left": null
          }
        },
        "cc55fecbb03a4e6ba2cc5fa96fb7dc00": {
          "model_module": "@jupyter-widgets/controls",
          "model_name": "ImageModel",
          "state": {
            "_view_name": "ImageView",
            "_dom_classes": [],
            "_model_name": "ImageModel",
            "format": "png",
            "_view_module": "@jupyter-widgets/controls",
            "_model_module_version": "1.5.0",
            "_view_count": null,
            "width": "",
            "_view_module_version": "1.5.0",
            "layout": "IPY_MODEL_c7f4ce1947b64bda946861f28498d4bf",
            "height": "",
            "_model_module": "@jupyter-widgets/controls"
          }
        },
        "c7f4ce1947b64bda946861f28498d4bf": {
          "model_module": "@jupyter-widgets/base",
          "model_name": "LayoutModel",
          "state": {
            "_view_name": "LayoutView",
            "grid_template_rows": null,
            "right": null,
            "justify_content": null,
            "_view_module": "@jupyter-widgets/base",
            "overflow": null,
            "_model_module_version": "1.2.0",
            "_view_count": null,
            "flex_flow": null,
            "width": null,
            "min_width": null,
            "border": null,
            "align_items": null,
            "bottom": null,
            "_model_module": "@jupyter-widgets/base",
            "top": null,
            "grid_column": null,
            "overflow_y": null,
            "overflow_x": null,
            "grid_auto_flow": null,
            "grid_area": null,
            "grid_template_columns": null,
            "flex": null,
            "_model_name": "LayoutModel",
            "justify_items": null,
            "grid_row": null,
            "max_height": null,
            "align_content": null,
            "visibility": null,
            "align_self": null,
            "height": null,
            "min_height": null,
            "padding": null,
            "grid_auto_rows": null,
            "grid_gap": null,
            "max_width": null,
            "order": null,
            "_view_module_version": "1.2.0",
            "grid_template_areas": null,
            "object_position": null,
            "object_fit": null,
            "grid_auto_columns": null,
            "margin": null,
            "display": null,
            "left": null
          }
        },
        "bee1aa63c6ca4e69ac68a968fbf5de36": {
          "model_module": "@jupyter-widgets/output",
          "model_name": "OutputModel",
          "state": {
            "_view_name": "OutputView",
            "msg_id": "",
            "_dom_classes": [],
            "_model_name": "OutputModel",
            "outputs": [
              {
                "output_type": "display_data",
                "metadata": {
                  "tags": []
                },
                "application/vnd.jupyter.widget-view+json": {
                  "model_id": "09fa4719a03a4b3dbcfb0022ddc3c9a0",
                  "version_minor": 0,
                  "version_major": 2
                },
                "text/plain": "Image(value=b'GIF89a\\xa0\\x01\\xf4\\x01\\x87\\x1f\\x00\\xff\\xff\\xff\\xff\\xff\\xfe\\xff\\xff\\xfc\\xfe\\xff\\xfa\\xfe\\xfe\\xfe\\x…"
              }
            ],
            "_view_module": "@jupyter-widgets/output",
            "_model_module_version": "1.0.0",
            "_view_count": null,
            "_view_module_version": "1.0.0",
            "layout": "IPY_MODEL_bc4bbcc52cc24edf96230c31e8291e35",
            "_model_module": "@jupyter-widgets/output"
          }
        },
        "bc4bbcc52cc24edf96230c31e8291e35": {
          "model_module": "@jupyter-widgets/base",
          "model_name": "LayoutModel",
          "state": {
            "_view_name": "LayoutView",
            "grid_template_rows": null,
            "right": null,
            "justify_content": null,
            "_view_module": "@jupyter-widgets/base",
            "overflow": null,
            "_model_module_version": "1.2.0",
            "_view_count": null,
            "flex_flow": null,
            "width": null,
            "min_width": null,
            "border": null,
            "align_items": null,
            "bottom": null,
            "_model_module": "@jupyter-widgets/base",
            "top": null,
            "grid_column": null,
            "overflow_y": null,
            "overflow_x": null,
            "grid_auto_flow": null,
            "grid_area": null,
            "grid_template_columns": null,
            "flex": null,
            "_model_name": "LayoutModel",
            "justify_items": null,
            "grid_row": null,
            "max_height": null,
            "align_content": null,
            "visibility": null,
            "align_self": null,
            "height": null,
            "min_height": null,
            "padding": null,
            "grid_auto_rows": null,
            "grid_gap": null,
            "max_width": null,
            "order": null,
            "_view_module_version": "1.2.0",
            "grid_template_areas": null,
            "object_position": null,
            "object_fit": null,
            "grid_auto_columns": null,
            "margin": null,
            "display": null,
            "left": null
          }
        },
        "09fa4719a03a4b3dbcfb0022ddc3c9a0": {
          "model_module": "@jupyter-widgets/controls",
          "model_name": "ImageModel",
          "state": {
            "_view_name": "ImageView",
            "_dom_classes": [],
            "_model_name": "ImageModel",
            "format": "png",
            "_view_module": "@jupyter-widgets/controls",
            "_model_module_version": "1.5.0",
            "_view_count": null,
            "width": "",
            "_view_module_version": "1.5.0",
            "layout": "IPY_MODEL_0cfb54edfb574d62897070619a74f013",
            "height": "",
            "_model_module": "@jupyter-widgets/controls"
          }
        },
        "0cfb54edfb574d62897070619a74f013": {
          "model_module": "@jupyter-widgets/base",
          "model_name": "LayoutModel",
          "state": {
            "_view_name": "LayoutView",
            "grid_template_rows": null,
            "right": null,
            "justify_content": null,
            "_view_module": "@jupyter-widgets/base",
            "overflow": null,
            "_model_module_version": "1.2.0",
            "_view_count": null,
            "flex_flow": null,
            "width": null,
            "min_width": null,
            "border": null,
            "align_items": null,
            "bottom": null,
            "_model_module": "@jupyter-widgets/base",
            "top": null,
            "grid_column": null,
            "overflow_y": null,
            "overflow_x": null,
            "grid_auto_flow": null,
            "grid_area": null,
            "grid_template_columns": null,
            "flex": null,
            "_model_name": "LayoutModel",
            "justify_items": null,
            "grid_row": null,
            "max_height": null,
            "align_content": null,
            "visibility": null,
            "align_self": null,
            "height": null,
            "min_height": null,
            "padding": null,
            "grid_auto_rows": null,
            "grid_gap": null,
            "max_width": null,
            "order": null,
            "_view_module_version": "1.2.0",
            "grid_template_areas": null,
            "object_position": null,
            "object_fit": null,
            "grid_auto_columns": null,
            "margin": null,
            "display": null,
            "left": null
          }
        }
      }
    }
  },
  "cells": [
    {
      "cell_type": "markdown",
      "metadata": {
        "id": "view-in-github",
        "colab_type": "text"
      },
      "source": [
        "<a href=\"https://colab.research.google.com/github/alisonsoong/NASA-SEES-2021-Emergency-Preparedness/blob/main/Floods_And_Tropical_Storms_Group.ipynb\" target=\"_parent\"><img src=\"https://colab.research.google.com/assets/colab-badge.svg\" alt=\"Open In Colab\"/></a>"
      ]
    },
    {
      "cell_type": "markdown",
      "metadata": {
        "id": "x5ey6v4tvONc"
      },
      "source": [
        "# Flood/Tropical Storms Group: \n",
        "##Time Series Charts/Animation of Soil Moisture/Precipitation in Florida-Carribean Region\n",
        "## Adelene Chan, Neha Vardhaman, Sabrina Chang, Sophia Lin\n",
        "\n"
      ]
    },
    {
      "cell_type": "markdown",
      "metadata": {
        "id": "qooGvCkeYZoF"
      },
      "source": [
        "# Time Series Charts\n",
        "Time series region reduction in Earth Engine, converting EE table to pandas DataFrame, representing data with matplotlib.pyplot. \n",
        "\n",
        "Feel free to make a copy and use your own datasets.\n",
        "\n",
        "##References:\n",
        "- [GEE Developers Time Series Visualization w/ Altair](https://developers.google.com/earth-engine/tutorials/community/time-series-visualization-with-altair#drought_severity) - for region reduction, EE table to DataFrame, DataFrame alterations\n",
        "- [WorldBank Mod4.1 Time Series Charts](https://worldbank.github.io/OpenNightLights/tutorials/mod4_1_time_series_charts.html) - for matplotlib plotting, additional DataFrame functions\n",
        "\n",
        "##Process:\n",
        "1. Import ee, geemap, json, pandas, seaborn, matplotlib.pyplot, numpy. \n",
        "2. Filter dataset (server-side EE)\n",
        "3. Reduce data region (server-side EE)\n",
        "4. Convert EE table to Dataframe (server-side EE -> client-side Python kernel)\n",
        "5. Alter DataFrame (client-side pandas)\n",
        "6. Plot DataFrame (client-side matplotlib) \n",
        "\n",
        "##Datasets and Area of Interest:\n",
        "- Area of interest: Florida Carribean Region (ee.Geometry.Polygon)\n",
        "- 'ssm' (surface soil moisture in mm) band from [NASA-USDA Enhanced SMAP Global Soil Moisture Data](https://developers.google.com/earth-engine/datasets/catalog/NASA_USDA_HSL_SMAP10KM_soil_moisture#description)\n",
        "- 'precipitationCal' (calibrated precipitation in mm/hr) band from [GPM: Global Precipitation Measurement (GPM) v6](https://developers.google.com/earth-engine/datasets/catalog/NASA_GPM_L3_IMERG_V06)\n",
        "- 'precipitation' (satellite-gauge precipitation estimate in mm/hr)[GPM: Monthly Global Precipitation Measurement (GPM) v6](https://developers.google.com/earth-engine/datasets/catalog/NASA_GPM_L3_IMERG_MONTHLY_V06)\n"
      ]
    },
    {
      "cell_type": "markdown",
      "metadata": {
        "id": "z-2Oau2DqPvk"
      },
      "source": [
        "#Imports"
      ]
    },
    {
      "cell_type": "code",
      "metadata": {
        "colab": {
          "base_uri": "https://localhost:8080/"
        },
        "id": "ifcKZSceqOuT",
        "outputId": "62fd9ea3-4260-414f-92a7-ca645834e833"
      },
      "source": [
        "import ee\n",
        "\n",
        "## Trigger the authentication flow. You only need to do this once\n",
        "ee.Authenticate()\n",
        "\n",
        "# Initialize the library.\n",
        "ee.Initialize()\n",
        "\n",
        "# Installs geemap package\n",
        "import subprocess\n",
        "\n",
        "try:\n",
        "    import geemap\n",
        "    print(\"geemap is imported and ready to use in Colab\")\n",
        "except ImportError:\n",
        "    print('geemap package not installed. Installing ...')\n",
        "    subprocess.check_call([\"python\", '-m', 'pip', 'install', 'geemap'])\n",
        "    import geemap\n",
        "    print(\"geemap is now installed, imported and ready to use in Colab\") "
      ],
      "execution_count": null,
      "outputs": [
        {
          "output_type": "stream",
          "text": [
            "To authorize access needed by Earth Engine, open the following URL in a web browser and follow the instructions. If the web browser does not start automatically, please manually browse the URL below.\n",
            "\n",
            "    https://accounts.google.com/o/oauth2/auth?client_id=517222506229-vsmmajv00ul0bs7p89v5m89qs8eb9359.apps.googleusercontent.com&scope=https%3A%2F%2Fwww.googleapis.com%2Fauth%2Fearthengine+https%3A%2F%2Fwww.googleapis.com%2Fauth%2Fdevstorage.full_control&redirect_uri=urn%3Aietf%3Awg%3Aoauth%3A2.0%3Aoob&response_type=code&code_challenge=_dezRVFpTPg5BLuh1ooSZJc9KMxwbPMz4xO-VEqnZ4U&code_challenge_method=S256\n",
            "\n",
            "The authorization workflow will generate a code, which you should paste in the box below. \n",
            "Enter verification code: 4/1AX4XfWiZQDPawyfHky0pkwyESA8z7Hh5JjPntSuvnCyWq2MNX_KSj1Fw2cc\n",
            "\n",
            "Successfully saved authorization token.\n",
            "geemap is imported and ready to use in Colab\n"
          ],
          "name": "stdout"
        }
      ]
    },
    {
      "cell_type": "code",
      "metadata": {
        "id": "BoI6DrY5rhN3"
      },
      "source": [
        "import json\n",
        "import pandas as pd\n",
        "import seaborn as sns\n",
        "import matplotlib.pyplot as plt\n",
        "import numpy as np"
      ],
      "execution_count": null,
      "outputs": []
    },
    {
      "cell_type": "markdown",
      "metadata": {
        "id": "pIfbvQEmqKLO"
      },
      "source": [
        "#Time Series Functions for Data\n",
        "[GEE Developers Time Series Visualization w/ Altair](https://developers.google.com/earth-engine/tutorials/community/time-series-visualization-with-altair#drought_severity)"
      ]
    },
    {
      "cell_type": "markdown",
      "metadata": {
        "id": "F6JQpPqIr2z5"
      },
      "source": [
        "##Region Reduction Function"
      ]
    },
    {
      "cell_type": "code",
      "metadata": {
        "id": "MsF5bi_lqFWn"
      },
      "source": [
        "def create_reduce_region_function(geometry,\n",
        "                                  reducer=ee.Reducer.mean(),\n",
        "                                  scale=1000,\n",
        "                                  crs='EPSG:4326',\n",
        "                                  bestEffort=True,\n",
        "                                  maxPixels=1e13,\n",
        "                                  tileScale=4):\n",
        "  def reduce_region_function(img):\n",
        "    stat = img.reduceRegion(\n",
        "        reducer=reducer,\n",
        "        geometry=geometry,\n",
        "        scale=scale,\n",
        "        crs=crs,\n",
        "        bestEffort=bestEffort,\n",
        "        maxPixels=maxPixels,\n",
        "        tileScale=tileScale)\n",
        "\n",
        "    return ee.Feature(geometry, stat).set({'millis': img.date().millis()})\n",
        "  return reduce_region_function"
      ],
      "execution_count": null,
      "outputs": []
    },
    {
      "cell_type": "code",
      "metadata": {
        "id": "8a70hqKGXs7N"
      },
      "source": [
        "def create_reduce_region_function(geometry, reducer=ee.Reducer.mean(), \n",
        "                                  scale=1000, crs='EPSG:4326',\n",
        "                                  bestEffort=True, maxPixels=1e13, tileScale=4):\n",
        "  def reduce_region_function(img):\n",
        "    stat = img.reduceRegion(\n",
        "        reducer=reducer,\n",
        "        geometry=geometry,\n",
        "        scale=scale,\n",
        "        crs=crs,\n",
        "        bestEffort=bestEffort,\n",
        "        maxPixels=maxPixels,\n",
        "        tileScale=tileScale)\n",
        "\n",
        "    return ee.Feature(geometry, stat).set({'millis': img.date().millis()})\n",
        "  return reduce_region_function"
      ],
      "execution_count": null,
      "outputs": []
    },
    {
      "cell_type": "markdown",
      "metadata": {
        "id": "RshOqLG9aaKr"
      },
      "source": [
        "###Info on function arguments\n",
        "\n"
      ]
    },
    {
      "cell_type": "markdown",
      "metadata": {
        "id": "a5xiDqOCb-OA"
      },
      "source": [
        "```\n",
        "def create_reduce_region_function(geometry,\n",
        "                                  reducer=ee.Reducer.mean(),\n",
        "                                  scale=1000,\n",
        "                                  crs='EPSG:4326',\n",
        "                                  bestEffort=True,\n",
        "                                  maxPixels=1e13,\n",
        "                                  tileScale=4):\n",
        "  \"\"\"Creates a region reduction function.\n",
        "\n",
        "  Creates a region reduction function intended to be used as the input function\n",
        "  to ee.ImageCollection.map() for reducing pixels intersecting a provided region\n",
        "  to a statistic for each image in a collection. See ee.Image.reduceRegion()\n",
        "  documentation for more details.\n",
        "\n",
        "  Args:\n",
        "    geometry:\n",
        "      An ee.Geometry that defines the region over which to reduce data.\n",
        "    reducer:\n",
        "      Optional; An ee.Reducer that defines the reduction method.\n",
        "    scale:\n",
        "      Optional; A number that defines the nominal scale in meters of the\n",
        "      projection to work in.\n",
        "    crs:\n",
        "      Optional; An ee.Projection or EPSG string ('EPSG:5070') that defines\n",
        "      the projection to work in.\n",
        "    bestEffort:\n",
        "      Optional; A Boolean indicator for whether to use a larger scale if the\n",
        "      geometry contains too many pixels at the given scale for the operation\n",
        "      to succeed.\n",
        "    maxPixels:\n",
        "      Optional; A number specifying the maximum number of pixels to reduce.\n",
        "    tileScale:\n",
        "      Optional; A number representing the scaling factor used to reduce\n",
        "      aggregation tile size; using a larger tileScale (e.g. 2 or 4) may enable\n",
        "      computations that run out of memory with the default.\n",
        "\n",
        "  Returns:\n",
        "    A function that accepts an ee.Image and reduces it by region, according to\n",
        "    the provided arguments.\n",
        "  \"\"\"\n",
        "\n",
        "  def reduce_region_function(img):\n",
        "    \"\"\"Applies the ee.Image.reduceRegion() method.\n",
        "\n",
        "    Args:\n",
        "      img:\n",
        "        An ee.Image to reduce to a statistic by region.\n",
        "\n",
        "    Returns:\n",
        "      An ee.Feature that contains properties representing the image region\n",
        "      reduction results per band and the image timestamp formatted as\n",
        "      milliseconds from Unix epoch (included to enable time series plotting).\n",
        "    \"\"\"\n",
        "\n",
        "    stat = img.reduceRegion(\n",
        "        reducer=reducer,\n",
        "        geometry=geometry,\n",
        "        scale=scale,\n",
        "        crs=crs,\n",
        "        bestEffort=bestEffort,\n",
        "        maxPixels=maxPixels,\n",
        "        tileScale=tileScale)\n",
        "\n",
        "    return ee.Feature(geometry, stat).set({'millis': img.date().millis()})\n",
        "  return reduce_region_function\n",
        "```\n"
      ]
    },
    {
      "cell_type": "markdown",
      "metadata": {
        "id": "o1A9nKxEr6nn"
      },
      "source": [
        "##Formatting\n",
        "Return dictionary from ee.FeatureCollection\n"
      ]
    },
    {
      "cell_type": "code",
      "metadata": {
        "id": "H8aKNIChsBfS"
      },
      "source": [
        "# Define a function to transfer feature properties to a dictionary.\n",
        "def fc_to_dict(fc):\n",
        "  prop_names = fc.first().propertyNames()\n",
        "  prop_lists = fc.reduceColumns(\n",
        "      reducer=ee.Reducer.toList().repeat(prop_names.size()),\n",
        "      selectors=prop_names).get('list')\n",
        "\n",
        "  return ee.Dictionary.fromLists(prop_names, prop_lists)"
      ],
      "execution_count": null,
      "outputs": []
    },
    {
      "cell_type": "markdown",
      "metadata": {
        "id": "Ibytu2ehsR8i"
      },
      "source": [
        "#Surface Soil Moisture (ssm) ImageCollection and Area of Interest\n",
        "\n",
        "[NASA-USDA Enhanced SMAP Global Soil Moisture Data](https://developers.google.com/earth-engine/datasets/catalog/NASA_USDA_HSL_SMAP10KM_soil_moisture#description)\n"
      ]
    },
    {
      "cell_type": "code",
      "metadata": {
        "id": "Ufti2c87sWnu"
      },
      "source": [
        "ssm = ee.ImageCollection(\"NASA_USDA/HSL/SMAP10KM_soil_moisture\").filterDate('2017-01-01','2018-01-01').select('ssm')\n",
        "aoi = ee.Geometry.Polygon([[-88.20, 30.99], [-59.68, 20.06] , [-62.45, 8.09] , [-86.48, 14.29]]) #4 sided polygon with Florida, Puerto Rico, Carribean area within\n",
        "\n",
        "##For geometries, can possibly use poi and buffer (if big enough compared to scale) and other aoi's with FeatureCollections \n",
        "# poi = ee.Geometry.Point(-66.11, 18.47).buffer(500) \n",
        "# aoi = ee.FeatureCollection('EPA/Ecoregions/2013/L3').filter(\n",
        "#     ee.Filter.eq('na_l3name', 'Sierra Nevada')).geometry()"
      ],
      "execution_count": null,
      "outputs": []
    },
    {
      "cell_type": "markdown",
      "metadata": {
        "id": "h7jDeXo4R5Zk"
      },
      "source": [
        "##Map AOI \n",
        "This is optional, but it's nice to see what we are working on."
      ]
    },
    {
      "cell_type": "code",
      "metadata": {
        "colab": {
          "base_uri": "https://localhost:8080/"
        },
        "id": "WfPfSSC7er1P",
        "outputId": "db18997f-834b-4ad0-9d80-6bec8c40e547"
      },
      "source": [
        "# Map instance\n",
        "Map = geemap.Map() \n",
        "\n",
        "# Area of Interest (same 'aoi' as above)\n",
        "aoi_map = ee.Geometry.Polygon([[-88.20, 30.99], [-59.68, 20.06] , [-62.45, 8.09] , [-86.48, 14.29]])\n",
        "\n",
        "# Image Collection (same as 'ssm' above)\n",
        "ssm_map = ee.ImageCollection(\"NASA_USDA/HSL/SMAP10KM_soil_moisture\").filterDate('2017-01-01','2018-01-01').select('ssm').filterBounds(aoi_map).median()\n",
        "\n",
        "# Image display parameters\n",
        "ssm_param = {\n",
        "    'min': 0.0,\n",
        "    'max': 25.0,\n",
        "    'palette': ['0300ff', '418504', 'efff07', 'ff0303'], \n",
        "    #'palette': ['f1eef6', 'bdc9e1', '74a9cf', '2b8cbe', '045a8d'],\n",
        "    'bands': 'ssm', # pick 1\n",
        "    'geometry':'aoi_map'\n",
        "}\n",
        "\n",
        "# Clipping map to just display area of interest\n",
        "ssm_aoi= ssm_map.clip(aoi_map)\n",
        "\n",
        "# Center map\n",
        "Map.center_object(aoi_map, zoom = 5)\n",
        "\n",
        "# Add map layer\n",
        "Map.addLayer(ssm_aoi, ssm_param, \"ssm Map of Florida-Carribean Region\")\n",
        "\n",
        "# Add legend\n",
        "names = ['0.0-5.0','5.0-10.0','15.0-20.0','20.0-25.0']\n",
        "palette = ['0300ff', '418504', 'efff07', 'ff0303']\n",
        "legend_dict = dict(zip(names,palette))\n",
        "Map.add_legend(title='SSM (mm)',legend_dict=legend_dict, position='bottomleft')\n",
        "\n",
        "# Display\n",
        "Map"
      ],
      "execution_count": null,
      "outputs": [
        {
          "output_type": "execute_result",
          "data": {
            "text/html": [
              "<div style=\"width:100%;\"><div style=\"position:relative;width:100%;height:0;padding-bottom:60%;\"><span style=\"color:#565656\">Make this Notebook Trusted to load map: File -> Trust Notebook</span><iframe src=\"about:blank\" style=\"position:absolute;width:100%;height:100%;left:0;top:0;border:none !important;\" data-html=%3C%21DOCTYPE%20html%3E%0A%3Chead%3E%20%20%20%20%0A%20%20%20%20%3Cmeta%20http-equiv%3D%22content-type%22%20content%3D%22text/html%3B%20charset%3DUTF-8%22%20/%3E%0A%20%20%20%20%0A%20%20%20%20%20%20%20%20%3Cscript%3E%0A%20%20%20%20%20%20%20%20%20%20%20%20L_NO_TOUCH%20%3D%20false%3B%0A%20%20%20%20%20%20%20%20%20%20%20%20L_DISABLE_3D%20%3D%20false%3B%0A%20%20%20%20%20%20%20%20%3C/script%3E%0A%20%20%20%20%0A%20%20%20%20%3Cstyle%3Ehtml%2C%20body%20%7Bwidth%3A%20100%25%3Bheight%3A%20100%25%3Bmargin%3A%200%3Bpadding%3A%200%3B%7D%3C/style%3E%0A%20%20%20%20%3Cstyle%3E%23map%20%7Bposition%3Aabsolute%3Btop%3A0%3Bbottom%3A0%3Bright%3A0%3Bleft%3A0%3B%7D%3C/style%3E%0A%20%20%20%20%3Cscript%20src%3D%22https%3A//cdn.jsdelivr.net/npm/leaflet%401.6.0/dist/leaflet.js%22%3E%3C/script%3E%0A%20%20%20%20%3Cscript%20src%3D%22https%3A//code.jquery.com/jquery-1.12.4.min.js%22%3E%3C/script%3E%0A%20%20%20%20%3Cscript%20src%3D%22https%3A//maxcdn.bootstrapcdn.com/bootstrap/3.2.0/js/bootstrap.min.js%22%3E%3C/script%3E%0A%20%20%20%20%3Cscript%20src%3D%22https%3A//cdnjs.cloudflare.com/ajax/libs/Leaflet.awesome-markers/2.0.2/leaflet.awesome-markers.js%22%3E%3C/script%3E%0A%20%20%20%20%3Clink%20rel%3D%22stylesheet%22%20href%3D%22https%3A//cdn.jsdelivr.net/npm/leaflet%401.6.0/dist/leaflet.css%22/%3E%0A%20%20%20%20%3Clink%20rel%3D%22stylesheet%22%20href%3D%22https%3A//maxcdn.bootstrapcdn.com/bootstrap/3.2.0/css/bootstrap.min.css%22/%3E%0A%20%20%20%20%3Clink%20rel%3D%22stylesheet%22%20href%3D%22https%3A//maxcdn.bootstrapcdn.com/bootstrap/3.2.0/css/bootstrap-theme.min.css%22/%3E%0A%20%20%20%20%3Clink%20rel%3D%22stylesheet%22%20href%3D%22https%3A//maxcdn.bootstrapcdn.com/font-awesome/4.6.3/css/font-awesome.min.css%22/%3E%0A%20%20%20%20%3Clink%20rel%3D%22stylesheet%22%20href%3D%22https%3A//cdnjs.cloudflare.com/ajax/libs/Leaflet.awesome-markers/2.0.2/leaflet.awesome-markers.css%22/%3E%0A%20%20%20%20%3Clink%20rel%3D%22stylesheet%22%20href%3D%22https%3A//cdn.jsdelivr.net/gh/python-visualization/folium/folium/templates/leaflet.awesome.rotate.min.css%22/%3E%0A%20%20%20%20%0A%20%20%20%20%20%20%20%20%20%20%20%20%3Cmeta%20name%3D%22viewport%22%20content%3D%22width%3Ddevice-width%2C%0A%20%20%20%20%20%20%20%20%20%20%20%20%20%20%20%20initial-scale%3D1.0%2C%20maximum-scale%3D1.0%2C%20user-scalable%3Dno%22%20/%3E%0A%20%20%20%20%20%20%20%20%20%20%20%20%3Cstyle%3E%0A%20%20%20%20%20%20%20%20%20%20%20%20%20%20%20%20%23map_c87de62d2cd14723a93fbfa4a693aa42%20%7B%0A%20%20%20%20%20%20%20%20%20%20%20%20%20%20%20%20%20%20%20%20position%3A%20relative%3B%0A%20%20%20%20%20%20%20%20%20%20%20%20%20%20%20%20%20%20%20%20width%3A%20100.0%25%3B%0A%20%20%20%20%20%20%20%20%20%20%20%20%20%20%20%20%20%20%20%20height%3A%20100.0%25%3B%0A%20%20%20%20%20%20%20%20%20%20%20%20%20%20%20%20%20%20%20%20left%3A%200.0%25%3B%0A%20%20%20%20%20%20%20%20%20%20%20%20%20%20%20%20%20%20%20%20top%3A%200.0%25%3B%0A%20%20%20%20%20%20%20%20%20%20%20%20%20%20%20%20%7D%0A%20%20%20%20%20%20%20%20%20%20%20%20%3C/style%3E%0A%20%20%20%20%20%20%20%20%0A%20%20%20%20%3Cscript%20src%3D%22https%3A//cdnjs.cloudflare.com/ajax/libs/leaflet.fullscreen/1.4.2/Control.FullScreen.min.js%22%3E%3C/script%3E%0A%20%20%20%20%3Clink%20rel%3D%22stylesheet%22%20href%3D%22https%3A//cdnjs.cloudflare.com/ajax/libs/leaflet.fullscreen/1.4.2/Control.FullScreen.min.css%22/%3E%0A%3C/head%3E%0A%3Cbody%3E%20%20%20%20%0A%20%20%20%20%0A%20%20%20%20%20%20%20%20%20%20%20%20%3Cdiv%20class%3D%22folium-map%22%20id%3D%22map_c87de62d2cd14723a93fbfa4a693aa42%22%20%3E%3C/div%3E%0A%20%20%20%20%20%20%20%20%0A%20%20%20%20%0A%0A%3C%21doctype%20html%3E%0A%3Chtml%20lang%3D%22en%22%3E%0A%3Chead%3E%0A%20%20%3Cmeta%20charset%3D%22utf-8%22%3E%0A%20%20%3Cmeta%20name%3D%22viewport%22%20content%3D%22width%3Ddevice-width%2C%20initial-scale%3D1%22%3E%0A%20%20%3Ctitle%3EjQuery%20UI%20Draggable%20-%20Default%20functionality%3C/title%3E%0A%20%20%3Clink%20rel%3D%22stylesheet%22%20href%3D%22//code.jquery.com/ui/1.12.1/themes/base/jquery-ui.css%22%3E%0A%0A%20%20%3Cscript%20src%3D%22https%3A//code.jquery.com/jquery-1.12.4.js%22%3E%3C/script%3E%0A%20%20%3Cscript%20src%3D%22https%3A//code.jquery.com/ui/1.12.1/jquery-ui.js%22%3E%3C/script%3E%0A%0A%20%20%3Cscript%3E%0A%20%20%24%28%20function%28%29%20%7B%0A%20%20%20%20%24%28%20%22%23maplegend%22%20%29.draggable%28%7B%0A%20%20%20%20%20%20%20%20%20%20%20%20%20%20%20%20%20%20%20%20start%3A%20function%20%28event%2C%20ui%29%20%7B%0A%20%20%20%20%20%20%20%20%20%20%20%20%20%20%20%20%20%20%20%20%20%20%20%20%24%28this%29.css%28%7B%0A%20%20%20%20%20%20%20%20%20%20%20%20%20%20%20%20%20%20%20%20%20%20%20%20%20%20%20%20right%3A%20%22auto%22%2C%0A%20%20%20%20%20%20%20%20%20%20%20%20%20%20%20%20%20%20%20%20%20%20%20%20%20%20%20%20top%3A%20%22auto%22%2C%0A%20%20%20%20%20%20%20%20%20%20%20%20%20%20%20%20%20%20%20%20%20%20%20%20%20%20%20%20bottom%3A%20%22auto%22%0A%20%20%20%20%20%20%20%20%20%20%20%20%20%20%20%20%20%20%20%20%20%20%20%20%7D%29%3B%0A%20%20%20%20%20%20%20%20%20%20%20%20%20%20%20%20%20%20%20%20%7D%0A%20%20%20%20%20%20%20%20%20%20%20%20%20%20%20%20%7D%29%3B%0A%7D%29%3B%0A%0A%20%20%3C/script%3E%0A%3C/head%3E%0A%3Cbody%3E%0A%0A%0A%3Cdiv%20id%3D%27maplegend%27%20class%3D%27maplegend%27%0A%20%20%20%20style%3D%27position%3A%20absolute%3B%20z-index%3A9999%3B%20border%3A2px%20solid%20grey%3B%20background-color%3Argba%28255%2C%20255%2C%20255%2C%200.8%29%3B%0A%20%20%20%20%20border-radius%3A6px%3B%20padding%3A%2010px%3B%20font-size%3A14px%3B%20right%3A%2020px%3B%20bottom%3A%2020px%3B%27%3E%0A%0A%3Cdiv%20class%3D%27legend-title%27%3ESSM%20%28mm%29%3C/div%3E%0A%3Cdiv%20class%3D%27legend-scale%27%3E%0A%20%20%3Cul%20class%3D%27legend-labels%27%3E%0A%20%20%20%20%3Cli%3E%3Cspan%20style%3D%27background%3A%230300ff%3Bopacity%3A1.0%3B%27%3E%3C/span%3E0.0-5.0%3C/li%3E%0A%20%20%20%20%3Cli%3E%3Cspan%20style%3D%27background%3A%23418504%3Bopacity%3A1.0%3B%27%3E%3C/span%3E5.0-10.0%3C/li%3E%0A%20%20%20%20%3Cli%3E%3Cspan%20style%3D%27background%3A%23efff07%3Bopacity%3A1.0%3B%27%3E%3C/span%3E15.0-20.0%3C/li%3E%0A%20%20%20%20%3Cli%3E%3Cspan%20style%3D%27background%3A%23ff0303%3Bopacity%3A1.0%3B%27%3E%3C/span%3E20.0-25.0%3C/li%3E%0A%20%20%3C/ul%3E%0A%3C/div%3E%0A%3C/div%3E%0A%0A%3C/body%3E%0A%3C/html%3E%0A%0A%3Cstyle%20type%3D%27text/css%27%3E%0A%20%20.maplegend%20.legend-title%20%7B%0A%20%20%20%20text-align%3A%20left%3B%0A%20%20%20%20margin-bottom%3A%205px%3B%0A%20%20%20%20font-weight%3A%20bold%3B%0A%20%20%20%20font-size%3A%2090%25%3B%0A%20%20%20%20%7D%0A%20%20.maplegend%20.legend-scale%20ul%20%7B%0A%20%20%20%20margin%3A%200%3B%0A%20%20%20%20margin-bottom%3A%205px%3B%0A%20%20%20%20padding%3A%200%3B%0A%20%20%20%20float%3A%20left%3B%0A%20%20%20%20list-style%3A%20none%3B%0A%20%20%20%20%7D%0A%20%20.maplegend%20.legend-scale%20ul%20li%20%7B%0A%20%20%20%20font-size%3A%2080%25%3B%0A%20%20%20%20list-style%3A%20none%3B%0A%20%20%20%20margin-left%3A%200%3B%0A%20%20%20%20line-height%3A%2018px%3B%0A%20%20%20%20margin-bottom%3A%202px%3B%0A%20%20%20%20%7D%0A%20%20.maplegend%20ul.legend-labels%20li%20span%20%7B%0A%20%20%20%20display%3A%20block%3B%0A%20%20%20%20float%3A%20left%3B%0A%20%20%20%20height%3A%2016px%3B%0A%20%20%20%20width%3A%2030px%3B%0A%20%20%20%20margin-right%3A%205px%3B%0A%20%20%20%20margin-left%3A%200%3B%0A%20%20%20%20border%3A%201px%20solid%20%23999%3B%0A%20%20%20%20%7D%0A%20%20.maplegend%20.legend-source%20%7B%0A%20%20%20%20font-size%3A%2080%25%3B%0A%20%20%20%20color%3A%20%23777%3B%0A%20%20%20%20clear%3A%20both%3B%0A%20%20%20%20%7D%0A%20%20.maplegend%20a%20%7B%0A%20%20%20%20color%3A%20%23777%3B%0A%20%20%20%20%7D%0A%3C/style%3E%0A%3C/body%3E%0A%3Cscript%3E%20%20%20%20%0A%20%20%20%20%0A%20%20%20%20%20%20%20%20%20%20%20%20var%20map_c87de62d2cd14723a93fbfa4a693aa42%20%3D%20L.map%28%0A%20%20%20%20%20%20%20%20%20%20%20%20%20%20%20%20%22map_c87de62d2cd14723a93fbfa4a693aa42%22%2C%0A%20%20%20%20%20%20%20%20%20%20%20%20%20%20%20%20%7B%0A%20%20%20%20%20%20%20%20%20%20%20%20%20%20%20%20%20%20%20%20center%3A%20%5B40.0%2C%20-100.0%5D%2C%0A%20%20%20%20%20%20%20%20%20%20%20%20%20%20%20%20%20%20%20%20crs%3A%20L.CRS.EPSG3857%2C%0A%20%20%20%20%20%20%20%20%20%20%20%20%20%20%20%20%20%20%20%20zoom%3A%204%2C%0A%20%20%20%20%20%20%20%20%20%20%20%20%20%20%20%20%20%20%20%20zoomControl%3A%20true%2C%0A%20%20%20%20%20%20%20%20%20%20%20%20%20%20%20%20%20%20%20%20preferCanvas%3A%20false%2C%0A%20%20%20%20%20%20%20%20%20%20%20%20%20%20%20%20%20%20%20%20eeInitialize%3A%20true%2C%0A%20%20%20%20%20%20%20%20%20%20%20%20%20%20%20%20%20%20%20%20addGoogleMap%3A%20true%2C%0A%20%20%20%20%20%20%20%20%20%20%20%20%20%20%20%20%20%20%20%20pluginLatlngpopup%3A%20true%2C%0A%20%20%20%20%20%20%20%20%20%20%20%20%20%20%20%20%20%20%20%20pluginFullscreen%3A%20true%2C%0A%20%20%20%20%20%20%20%20%20%20%20%20%20%20%20%20%20%20%20%20pluginDraw%3A%20false%2C%0A%20%20%20%20%20%20%20%20%20%20%20%20%20%20%20%20%20%20%20%20DrawExport%3A%20true%2C%0A%20%20%20%20%20%20%20%20%20%20%20%20%20%20%20%20%20%20%20%20pluginMinimap%3A%20false%2C%0A%20%20%20%20%20%20%20%20%20%20%20%20%20%20%20%20%20%20%20%20pluginLayercontrol%3A%20false%2C%0A%20%20%20%20%20%20%20%20%20%20%20%20%20%20%20%20%7D%0A%20%20%20%20%20%20%20%20%20%20%20%20%29%3B%0A%0A%20%20%20%20%20%20%20%20%20%20%20%20%0A%0A%20%20%20%20%20%20%20%20%0A%20%20%20%20%0A%20%20%20%20%20%20%20%20%20%20%20%20var%20tile_layer_4f60f0e34a5d4645b941a8c8db0b49ba%20%3D%20L.tileLayer%28%0A%20%20%20%20%20%20%20%20%20%20%20%20%20%20%20%20%22https%3A//%7Bs%7D.tile.openstreetmap.org/%7Bz%7D/%7Bx%7D/%7By%7D.png%22%2C%0A%20%20%20%20%20%20%20%20%20%20%20%20%20%20%20%20%7B%22attribution%22%3A%20%22Data%20by%20%5Cu0026copy%3B%20%5Cu003ca%20href%3D%5C%22http%3A//openstreetmap.org%5C%22%5Cu003eOpenStreetMap%5Cu003c/a%5Cu003e%2C%20under%20%5Cu003ca%20href%3D%5C%22http%3A//www.openstreetmap.org/copyright%5C%22%5Cu003eODbL%5Cu003c/a%5Cu003e.%22%2C%20%22detectRetina%22%3A%20false%2C%20%22maxNativeZoom%22%3A%2018%2C%20%22maxZoom%22%3A%2018%2C%20%22minZoom%22%3A%200%2C%20%22noWrap%22%3A%20false%2C%20%22opacity%22%3A%201%2C%20%22subdomains%22%3A%20%22abc%22%2C%20%22tms%22%3A%20false%7D%0A%20%20%20%20%20%20%20%20%20%20%20%20%29.addTo%28map_c87de62d2cd14723a93fbfa4a693aa42%29%3B%0A%20%20%20%20%20%20%20%20%0A%20%20%20%20%0A%20%20%20%20%20%20%20%20%20%20%20%20var%20tile_layer_eb90ca81ff3e417e9d5706b0e9da9289%20%3D%20L.tileLayer%28%0A%20%20%20%20%20%20%20%20%20%20%20%20%20%20%20%20%22https%3A//mt1.google.com/vt/lyrs%3Dm%5Cu0026x%3D%7Bx%7D%5Cu0026y%3D%7By%7D%5Cu0026z%3D%7Bz%7D%22%2C%0A%20%20%20%20%20%20%20%20%20%20%20%20%20%20%20%20%7B%22attribution%22%3A%20%22Google%22%2C%20%22detectRetina%22%3A%20false%2C%20%22maxNativeZoom%22%3A%2018%2C%20%22maxZoom%22%3A%2018%2C%20%22minZoom%22%3A%200%2C%20%22noWrap%22%3A%20false%2C%20%22opacity%22%3A%201%2C%20%22subdomains%22%3A%20%22abc%22%2C%20%22tms%22%3A%20false%7D%0A%20%20%20%20%20%20%20%20%20%20%20%20%29.addTo%28map_c87de62d2cd14723a93fbfa4a693aa42%29%3B%0A%20%20%20%20%20%20%20%20%0A%20%20%20%20%0A%20%20%20%20%20%20%20%20%20%20%20%20%20%20%20%20var%20lat_lng_popup_eb508214f9c8407bb9d123826e9bc9ff%20%3D%20L.popup%28%29%3B%0A%20%20%20%20%20%20%20%20%20%20%20%20%20%20%20%20function%20latLngPop%28e%29%20%7B%0A%20%20%20%20%20%20%20%20%20%20%20%20%20%20%20%20%20%20%20%20lat_lng_popup_eb508214f9c8407bb9d123826e9bc9ff%0A%20%20%20%20%20%20%20%20%20%20%20%20%20%20%20%20%20%20%20%20%20%20%20%20.setLatLng%28e.latlng%29%0A%20%20%20%20%20%20%20%20%20%20%20%20%20%20%20%20%20%20%20%20%20%20%20%20.setContent%28%22Latitude%3A%20%22%20%2B%20e.latlng.lat.toFixed%284%29%20%2B%0A%20%20%20%20%20%20%20%20%20%20%20%20%20%20%20%20%20%20%20%20%20%20%20%20%20%20%20%20%20%20%20%20%20%20%20%20%22%3Cbr%3ELongitude%3A%20%22%20%2B%20e.latlng.lng.toFixed%284%29%29%0A%20%20%20%20%20%20%20%20%20%20%20%20%20%20%20%20%20%20%20%20%20%20%20%20.openOn%28map_c87de62d2cd14723a93fbfa4a693aa42%29%3B%0A%20%20%20%20%20%20%20%20%20%20%20%20%20%20%20%20%20%20%20%20%7D%0A%20%20%20%20%20%20%20%20%20%20%20%20%20%20%20%20map_c87de62d2cd14723a93fbfa4a693aa42.on%28%27click%27%2C%20latLngPop%29%3B%0A%20%20%20%20%20%20%20%20%20%20%20%20%0A%20%20%20%20%0A%20%20%20%20%20%20%20%20%20%20%20%20L.control.fullscreen%28%0A%20%20%20%20%20%20%20%20%20%20%20%20%20%20%20%20%7B%22forceSeparateButton%22%3A%20false%2C%20%22position%22%3A%20%22topleft%22%2C%20%22title%22%3A%20%22Full%20Screen%22%2C%20%22titleCancel%22%3A%20%22Exit%20Full%20Screen%22%7D%0A%20%20%20%20%20%20%20%20%20%20%20%20%29.addTo%28map_c87de62d2cd14723a93fbfa4a693aa42%29%3B%0A%20%20%20%20%20%20%20%20%0A%20%20%20%20%0A%20%20%20%20%20%20%20%20%20%20%20%20map_c87de62d2cd14723a93fbfa4a693aa42.fitBounds%28%0A%20%20%20%20%20%20%20%20%20%20%20%20%20%20%20%20%5B%5B40%2C%20-100%5D%2C%20%5B40%2C%20-100%5D%5D%2C%0A%20%20%20%20%20%20%20%20%20%20%20%20%20%20%20%20%7B%22maxZoom%22%3A%204%7D%0A%20%20%20%20%20%20%20%20%20%20%20%20%29%3B%0A%20%20%20%20%20%20%20%20%0A%20%20%20%20%0A%20%20%20%20%20%20%20%20%20%20%20%20map_c87de62d2cd14723a93fbfa4a693aa42.fitBounds%28%0A%20%20%20%20%20%20%20%20%20%20%20%20%20%20%20%20%5B%5B19.141038445995783%2C%20-74.42216278501148%5D%2C%20%5B19.141038445995783%2C%20-74.42216278501148%5D%5D%2C%0A%20%20%20%20%20%20%20%20%20%20%20%20%20%20%20%20%7B%22maxZoom%22%3A%205%7D%0A%20%20%20%20%20%20%20%20%20%20%20%20%29%3B%0A%20%20%20%20%20%20%20%20%0A%20%20%20%20%0A%20%20%20%20%20%20%20%20%20%20%20%20var%20tile_layer_eccb1935f3e84e94b8143be34b74dcb4%20%3D%20L.tileLayer%28%0A%20%20%20%20%20%20%20%20%20%20%20%20%20%20%20%20%22https%3A//earthengine.googleapis.com/v1alpha/projects/earthengine-legacy/maps/66ab121de36ad1c1b9654c1f0429be24-1771aeb9a218675f61c09a1f466e7adf/tiles/%7Bz%7D/%7Bx%7D/%7By%7D%22%2C%0A%20%20%20%20%20%20%20%20%20%20%20%20%20%20%20%20%7B%22attribution%22%3A%20%22Google%20Earth%20Engine%22%2C%20%22detectRetina%22%3A%20false%2C%20%22maxNativeZoom%22%3A%2018%2C%20%22maxZoom%22%3A%2018%2C%20%22minZoom%22%3A%200%2C%20%22noWrap%22%3A%20false%2C%20%22opacity%22%3A%201.0%2C%20%22subdomains%22%3A%20%22abc%22%2C%20%22tms%22%3A%20false%7D%0A%20%20%20%20%20%20%20%20%20%20%20%20%29.addTo%28map_c87de62d2cd14723a93fbfa4a693aa42%29%3B%0A%20%20%20%20%20%20%20%20%0A%20%20%20%20%0A%20%20%20%20%20%20%20%20%20%20%20%20var%20layer_control_99fd5b08a1974105a83d8988df74dce2%20%3D%20%7B%0A%20%20%20%20%20%20%20%20%20%20%20%20%20%20%20%20base_layers%20%3A%20%7B%0A%20%20%20%20%20%20%20%20%20%20%20%20%20%20%20%20%20%20%20%20%22openstreetmap%22%20%3A%20tile_layer_4f60f0e34a5d4645b941a8c8db0b49ba%2C%0A%20%20%20%20%20%20%20%20%20%20%20%20%20%20%20%20%7D%2C%0A%20%20%20%20%20%20%20%20%20%20%20%20%20%20%20%20overlays%20%3A%20%20%7B%0A%20%20%20%20%20%20%20%20%20%20%20%20%20%20%20%20%20%20%20%20%22Google%20Maps%22%20%3A%20tile_layer_eb90ca81ff3e417e9d5706b0e9da9289%2C%0A%20%20%20%20%20%20%20%20%20%20%20%20%20%20%20%20%20%20%20%20%22ssm%20Map%20of%20Florida-Carribean%20Region%22%20%3A%20tile_layer_eccb1935f3e84e94b8143be34b74dcb4%2C%0A%20%20%20%20%20%20%20%20%20%20%20%20%20%20%20%20%7D%2C%0A%20%20%20%20%20%20%20%20%20%20%20%20%7D%3B%0A%20%20%20%20%20%20%20%20%20%20%20%20L.control.layers%28%0A%20%20%20%20%20%20%20%20%20%20%20%20%20%20%20%20layer_control_99fd5b08a1974105a83d8988df74dce2.base_layers%2C%0A%20%20%20%20%20%20%20%20%20%20%20%20%20%20%20%20layer_control_99fd5b08a1974105a83d8988df74dce2.overlays%2C%0A%20%20%20%20%20%20%20%20%20%20%20%20%20%20%20%20%7B%22autoZIndex%22%3A%20true%2C%20%22collapsed%22%3A%20true%2C%20%22position%22%3A%20%22topright%22%7D%0A%20%20%20%20%20%20%20%20%20%20%20%20%29.addTo%28map_c87de62d2cd14723a93fbfa4a693aa42%29%3B%0A%20%20%20%20%20%20%20%20%0A%3C/script%3E onload=\"this.contentDocument.open();this.contentDocument.write(    decodeURIComponent(this.getAttribute('data-html')));this.contentDocument.close();\" allowfullscreen webkitallowfullscreen mozallowfullscreen></iframe></div></div>"
            ],
            "text/plain": [
              "<geemap.foliumap.Map at 0x7fa22d150090>"
            ]
          },
          "metadata": {
            "tags": []
          },
          "execution_count": 48
        }
      ]
    },
    {
      "cell_type": "markdown",
      "metadata": {
        "id": "e-fMjLQHsZFl"
      },
      "source": [
        "##Reduce Data\n",
        "\n",
        "1. Create a region reduction function.\n",
        "2. Map the function over the desired image collection (ssm) to reduce each image.\n",
        "3. Filter out any resulting features that have null computed values (occurs when all pixels in an AOI are masked)."
      ]
    },
    {
      "cell_type": "code",
      "metadata": {
        "id": "7X92hHfvsaXD"
      },
      "source": [
        "reduce_ssm = create_reduce_region_function(\n",
        "    geometry=aoi, reducer=ee.Reducer.mean(), scale=10000) #, crs='EPSG:3310'\n",
        "\n",
        "ssm_stat_fc = ee.FeatureCollection(ssm.map(reduce_ssm)).filter(\n",
        "    ee.Filter.notNull(ssm.first().bandNames()))"
      ],
      "execution_count": null,
      "outputs": []
    },
    {
      "cell_type": "markdown",
      "metadata": {
        "id": "vIxarluesmk3"
      },
      "source": [
        "##Servent to client transfer\n",
        "The ee.FeatureCollection needs to be converted to a dictionary and transferred to the Python kernel.\n",
        "\n",
        "1. Apply the fc_to_dict function to convert from ee.FeatureCollection to ee.Dictionary.\n",
        "2. Call getInfo() on the ee.Dictionary to transfer the data client-side.\n",
        "\n"
      ]
    },
    {
      "cell_type": "code",
      "metadata": {
        "id": "d2-JkX_YssqK"
      },
      "source": [
        "ssm_dict = fc_to_dict(ssm_stat_fc).getInfo()\n"
      ],
      "execution_count": null,
      "outputs": []
    },
    {
      "cell_type": "code",
      "metadata": {
        "colab": {
          "base_uri": "https://localhost:8080/"
        },
        "id": "v92Q7BdTsvzB",
        "outputId": "8bb6c84d-54a9-4d2c-aff7-b92ea9b19e8c"
      },
      "source": [
        "#just to see how it's formatted\n",
        "print(type(ssm_dict), '\\n')\n",
        "for prop in ssm_dict.keys():\n",
        "    print(prop + ':', ssm_dict[prop][0:3] + ['...'])\n",
        "\n"
      ],
      "execution_count": null,
      "outputs": [
        {
          "output_type": "stream",
          "text": [
            "<class 'dict'> \n",
            "\n",
            "millis: [1483444800000, 1483704000000, 1483963200000, '...']\n",
            "ssm: [15.959310846353194, 16.775050132680757, 16.424203309209126, '...']\n",
            "system:index: ['NASA_USDA_SMAP_SM20170103_20170105', 'NASA_USDA_SMAP_SM20170106_20170108', 'NASA_USDA_SMAP_SM20170109_20170111', '...']\n"
          ],
          "name": "stdout"
        }
      ]
    },
    {
      "cell_type": "markdown",
      "metadata": {
        "id": "Vp1LSCqFs3So"
      },
      "source": [
        "##Python dict to pandas DataFrame"
      ]
    },
    {
      "cell_type": "code",
      "metadata": {
        "id": "dgeK8VUss7Bg"
      },
      "source": [
        "# Convert the Python dictionary to a pandas DataFrame.\n",
        "\n",
        "ssm_df = pd.DataFrame(ssm_dict) #df stands for DataFrame\n"
      ],
      "execution_count": null,
      "outputs": []
    },
    {
      "cell_type": "code",
      "metadata": {
        "colab": {
          "base_uri": "https://localhost:8080/"
        },
        "id": "2AQuBFJ7s9Zc",
        "outputId": "198716a3-d543-4f3f-b016-bd4c9eeb7fa7"
      },
      "source": [
        "# Preview the DataFrame and check the column data types.\n",
        "\n",
        "display(ssm_df)\n",
        "print(ssm_df.dtypes)"
      ],
      "execution_count": null,
      "outputs": [
        {
          "output_type": "display_data",
          "data": {
            "text/html": [
              "<div>\n",
              "<style scoped>\n",
              "    .dataframe tbody tr th:only-of-type {\n",
              "        vertical-align: middle;\n",
              "    }\n",
              "\n",
              "    .dataframe tbody tr th {\n",
              "        vertical-align: top;\n",
              "    }\n",
              "\n",
              "    .dataframe thead th {\n",
              "        text-align: right;\n",
              "    }\n",
              "</style>\n",
              "<table border=\"1\" class=\"dataframe\">\n",
              "  <thead>\n",
              "    <tr style=\"text-align: right;\">\n",
              "      <th></th>\n",
              "      <th>millis</th>\n",
              "      <th>ssm</th>\n",
              "      <th>system:index</th>\n",
              "    </tr>\n",
              "  </thead>\n",
              "  <tbody>\n",
              "    <tr>\n",
              "      <th>0</th>\n",
              "      <td>1483444800000</td>\n",
              "      <td>15.959311</td>\n",
              "      <td>NASA_USDA_SMAP_SM20170103_20170105</td>\n",
              "    </tr>\n",
              "    <tr>\n",
              "      <th>1</th>\n",
              "      <td>1483704000000</td>\n",
              "      <td>16.775050</td>\n",
              "      <td>NASA_USDA_SMAP_SM20170106_20170108</td>\n",
              "    </tr>\n",
              "    <tr>\n",
              "      <th>2</th>\n",
              "      <td>1483963200000</td>\n",
              "      <td>16.424203</td>\n",
              "      <td>NASA_USDA_SMAP_SM20170109_20170111</td>\n",
              "    </tr>\n",
              "    <tr>\n",
              "      <th>3</th>\n",
              "      <td>1484222400000</td>\n",
              "      <td>15.747155</td>\n",
              "      <td>NASA_USDA_SMAP_SM20170112_20170114</td>\n",
              "    </tr>\n",
              "    <tr>\n",
              "      <th>4</th>\n",
              "      <td>1484481600000</td>\n",
              "      <td>15.236185</td>\n",
              "      <td>NASA_USDA_SMAP_SM20170115_20170117</td>\n",
              "    </tr>\n",
              "    <tr>\n",
              "      <th>...</th>\n",
              "      <td>...</td>\n",
              "      <td>...</td>\n",
              "      <td>...</td>\n",
              "    </tr>\n",
              "    <tr>\n",
              "      <th>116</th>\n",
              "      <td>1513512000000</td>\n",
              "      <td>18.795176</td>\n",
              "      <td>NASA_USDA_SMAP_SM20171217_20171219</td>\n",
              "    </tr>\n",
              "    <tr>\n",
              "      <th>117</th>\n",
              "      <td>1513771200000</td>\n",
              "      <td>18.500953</td>\n",
              "      <td>NASA_USDA_SMAP_SM20171220_20171222</td>\n",
              "    </tr>\n",
              "    <tr>\n",
              "      <th>118</th>\n",
              "      <td>1514030400000</td>\n",
              "      <td>18.064526</td>\n",
              "      <td>NASA_USDA_SMAP_SM20171223_20171225</td>\n",
              "    </tr>\n",
              "    <tr>\n",
              "      <th>119</th>\n",
              "      <td>1514289600000</td>\n",
              "      <td>18.213604</td>\n",
              "      <td>NASA_USDA_SMAP_SM20171226_20171228</td>\n",
              "    </tr>\n",
              "    <tr>\n",
              "      <th>120</th>\n",
              "      <td>1514548800000</td>\n",
              "      <td>18.788075</td>\n",
              "      <td>NASA_USDA_SMAP_SM20171229_20171231</td>\n",
              "    </tr>\n",
              "  </tbody>\n",
              "</table>\n",
              "<p>121 rows × 3 columns</p>\n",
              "</div>"
            ],
            "text/plain": [
              "            millis        ssm                        system:index\n",
              "0    1483444800000  15.959311  NASA_USDA_SMAP_SM20170103_20170105\n",
              "1    1483704000000  16.775050  NASA_USDA_SMAP_SM20170106_20170108\n",
              "2    1483963200000  16.424203  NASA_USDA_SMAP_SM20170109_20170111\n",
              "3    1484222400000  15.747155  NASA_USDA_SMAP_SM20170112_20170114\n",
              "4    1484481600000  15.236185  NASA_USDA_SMAP_SM20170115_20170117\n",
              "..             ...        ...                                 ...\n",
              "116  1513512000000  18.795176  NASA_USDA_SMAP_SM20171217_20171219\n",
              "117  1513771200000  18.500953  NASA_USDA_SMAP_SM20171220_20171222\n",
              "118  1514030400000  18.064526  NASA_USDA_SMAP_SM20171223_20171225\n",
              "119  1514289600000  18.213604  NASA_USDA_SMAP_SM20171226_20171228\n",
              "120  1514548800000  18.788075  NASA_USDA_SMAP_SM20171229_20171231\n",
              "\n",
              "[121 rows x 3 columns]"
            ]
          },
          "metadata": {
            "tags": []
          }
        },
        {
          "output_type": "stream",
          "text": [
            "millis            int64\n",
            "ssm             float64\n",
            "system:index     object\n",
            "dtype: object\n"
          ],
          "name": "stdout"
        }
      ]
    },
    {
      "cell_type": "markdown",
      "metadata": {
        "id": "-rIbyb1Xtcee"
      },
      "source": [
        "#Reformatting DataFrame - add/rename/drop columns"
      ]
    },
    {
      "cell_type": "markdown",
      "metadata": {
        "id": "2r25HjnRtHX-"
      },
      "source": [
        "##Add date columns"
      ]
    },
    {
      "cell_type": "code",
      "metadata": {
        "id": "Ko9iK34QtMu8"
      },
      "source": [
        "# Function to add date variables to DataFrame.\n",
        "def add_date_info(df):\n",
        "  df['Timestamp'] = pd.to_datetime(df['millis'], unit='ms') #important - changes from ms to timestamp\n",
        "  df['Year'] = pd.DatetimeIndex(df['Timestamp']).year\n",
        "  df['Month'] = pd.DatetimeIndex(df['Timestamp']).month\n",
        "  df['Day'] = pd.DatetimeIndex(df['Timestamp']).day\n",
        "  df['DOY'] = pd.DatetimeIndex(df['Timestamp']).dayofyear\n",
        "  return df"
      ],
      "execution_count": null,
      "outputs": []
    },
    {
      "cell_type": "code",
      "metadata": {
        "colab": {
          "base_uri": "https://localhost:8080/"
        },
        "id": "dFtzASUFtR6Q",
        "outputId": "ad2cac5e-dde4-4475-efd2-11614ef817ad"
      },
      "source": [
        "# Preview the results\n",
        "ssm_df = add_date_info(ssm_df)\n",
        "ssm_df.head(5)"
      ],
      "execution_count": null,
      "outputs": [
        {
          "output_type": "execute_result",
          "data": {
            "text/html": [
              "<div>\n",
              "<style scoped>\n",
              "    .dataframe tbody tr th:only-of-type {\n",
              "        vertical-align: middle;\n",
              "    }\n",
              "\n",
              "    .dataframe tbody tr th {\n",
              "        vertical-align: top;\n",
              "    }\n",
              "\n",
              "    .dataframe thead th {\n",
              "        text-align: right;\n",
              "    }\n",
              "</style>\n",
              "<table border=\"1\" class=\"dataframe\">\n",
              "  <thead>\n",
              "    <tr style=\"text-align: right;\">\n",
              "      <th></th>\n",
              "      <th>millis</th>\n",
              "      <th>ssm</th>\n",
              "      <th>system:index</th>\n",
              "      <th>Timestamp</th>\n",
              "      <th>Year</th>\n",
              "      <th>Month</th>\n",
              "      <th>Day</th>\n",
              "      <th>DOY</th>\n",
              "    </tr>\n",
              "  </thead>\n",
              "  <tbody>\n",
              "    <tr>\n",
              "      <th>0</th>\n",
              "      <td>1483444800000</td>\n",
              "      <td>15.959311</td>\n",
              "      <td>NASA_USDA_SMAP_SM20170103_20170105</td>\n",
              "      <td>2017-01-03 12:00:00</td>\n",
              "      <td>2017</td>\n",
              "      <td>1</td>\n",
              "      <td>3</td>\n",
              "      <td>3</td>\n",
              "    </tr>\n",
              "    <tr>\n",
              "      <th>1</th>\n",
              "      <td>1483704000000</td>\n",
              "      <td>16.775050</td>\n",
              "      <td>NASA_USDA_SMAP_SM20170106_20170108</td>\n",
              "      <td>2017-01-06 12:00:00</td>\n",
              "      <td>2017</td>\n",
              "      <td>1</td>\n",
              "      <td>6</td>\n",
              "      <td>6</td>\n",
              "    </tr>\n",
              "    <tr>\n",
              "      <th>2</th>\n",
              "      <td>1483963200000</td>\n",
              "      <td>16.424203</td>\n",
              "      <td>NASA_USDA_SMAP_SM20170109_20170111</td>\n",
              "      <td>2017-01-09 12:00:00</td>\n",
              "      <td>2017</td>\n",
              "      <td>1</td>\n",
              "      <td>9</td>\n",
              "      <td>9</td>\n",
              "    </tr>\n",
              "    <tr>\n",
              "      <th>3</th>\n",
              "      <td>1484222400000</td>\n",
              "      <td>15.747155</td>\n",
              "      <td>NASA_USDA_SMAP_SM20170112_20170114</td>\n",
              "      <td>2017-01-12 12:00:00</td>\n",
              "      <td>2017</td>\n",
              "      <td>1</td>\n",
              "      <td>12</td>\n",
              "      <td>12</td>\n",
              "    </tr>\n",
              "    <tr>\n",
              "      <th>4</th>\n",
              "      <td>1484481600000</td>\n",
              "      <td>15.236185</td>\n",
              "      <td>NASA_USDA_SMAP_SM20170115_20170117</td>\n",
              "      <td>2017-01-15 12:00:00</td>\n",
              "      <td>2017</td>\n",
              "      <td>1</td>\n",
              "      <td>15</td>\n",
              "      <td>15</td>\n",
              "    </tr>\n",
              "  </tbody>\n",
              "</table>\n",
              "</div>"
            ],
            "text/plain": [
              "          millis        ssm  ... Day DOY\n",
              "0  1483444800000  15.959311  ...   3   3\n",
              "1  1483704000000  16.775050  ...   6   6\n",
              "2  1483963200000  16.424203  ...   9   9\n",
              "3  1484222400000  15.747155  ...  12  12\n",
              "4  1484481600000  15.236185  ...  15  15\n",
              "\n",
              "[5 rows x 8 columns]"
            ]
          },
          "metadata": {
            "tags": []
          },
          "execution_count": 55
        }
      ]
    },
    {
      "cell_type": "markdown",
      "metadata": {
        "id": "nDnZ3eJCtXWu"
      },
      "source": [
        "## Rename and drop columns"
      ]
    },
    {
      "cell_type": "code",
      "metadata": {
        "colab": {
          "base_uri": "https://localhost:8080/"
        },
        "id": "Ta6xUskJtgBC",
        "outputId": "bde84c9b-7269-4418-d95f-7ddc0954718b"
      },
      "source": [
        "# Change ssm to SSM, remove other columns\n",
        "ssm_df = ssm_df.rename(columns={\n",
        "    'ssm': 'SSM',\n",
        "}).drop(columns=['millis', 'system:index','Year','Month','Day','DOY'])\n",
        "ssm_df.head(5) #preview"
      ],
      "execution_count": null,
      "outputs": [
        {
          "output_type": "execute_result",
          "data": {
            "text/html": [
              "<div>\n",
              "<style scoped>\n",
              "    .dataframe tbody tr th:only-of-type {\n",
              "        vertical-align: middle;\n",
              "    }\n",
              "\n",
              "    .dataframe tbody tr th {\n",
              "        vertical-align: top;\n",
              "    }\n",
              "\n",
              "    .dataframe thead th {\n",
              "        text-align: right;\n",
              "    }\n",
              "</style>\n",
              "<table border=\"1\" class=\"dataframe\">\n",
              "  <thead>\n",
              "    <tr style=\"text-align: right;\">\n",
              "      <th></th>\n",
              "      <th>SSM</th>\n",
              "      <th>Timestamp</th>\n",
              "    </tr>\n",
              "  </thead>\n",
              "  <tbody>\n",
              "    <tr>\n",
              "      <th>0</th>\n",
              "      <td>15.959311</td>\n",
              "      <td>2017-01-03 12:00:00</td>\n",
              "    </tr>\n",
              "    <tr>\n",
              "      <th>1</th>\n",
              "      <td>16.775050</td>\n",
              "      <td>2017-01-06 12:00:00</td>\n",
              "    </tr>\n",
              "    <tr>\n",
              "      <th>2</th>\n",
              "      <td>16.424203</td>\n",
              "      <td>2017-01-09 12:00:00</td>\n",
              "    </tr>\n",
              "    <tr>\n",
              "      <th>3</th>\n",
              "      <td>15.747155</td>\n",
              "      <td>2017-01-12 12:00:00</td>\n",
              "    </tr>\n",
              "    <tr>\n",
              "      <th>4</th>\n",
              "      <td>15.236185</td>\n",
              "      <td>2017-01-15 12:00:00</td>\n",
              "    </tr>\n",
              "  </tbody>\n",
              "</table>\n",
              "</div>"
            ],
            "text/plain": [
              "         SSM           Timestamp\n",
              "0  15.959311 2017-01-03 12:00:00\n",
              "1  16.775050 2017-01-06 12:00:00\n",
              "2  16.424203 2017-01-09 12:00:00\n",
              "3  15.747155 2017-01-12 12:00:00\n",
              "4  15.236185 2017-01-15 12:00:00"
            ]
          },
          "metadata": {
            "tags": []
          },
          "execution_count": 56
        }
      ]
    },
    {
      "cell_type": "code",
      "metadata": {
        "colab": {
          "base_uri": "https://localhost:8080/"
        },
        "id": "tYwzqdo_ZYiz",
        "outputId": "3e30b3d3-8d4e-4131-b30a-c96022a2b589"
      },
      "source": [
        "# Change timestamp to date\n",
        "ssm_df = ssm_df.rename(columns={\n",
        "    'Timestamp': 'date'\n",
        "})\n",
        "ssm_df.head(5) #preview"
      ],
      "execution_count": null,
      "outputs": [
        {
          "output_type": "execute_result",
          "data": {
            "text/html": [
              "<div>\n",
              "<style scoped>\n",
              "    .dataframe tbody tr th:only-of-type {\n",
              "        vertical-align: middle;\n",
              "    }\n",
              "\n",
              "    .dataframe tbody tr th {\n",
              "        vertical-align: top;\n",
              "    }\n",
              "\n",
              "    .dataframe thead th {\n",
              "        text-align: right;\n",
              "    }\n",
              "</style>\n",
              "<table border=\"1\" class=\"dataframe\">\n",
              "  <thead>\n",
              "    <tr style=\"text-align: right;\">\n",
              "      <th></th>\n",
              "      <th>SSM</th>\n",
              "      <th>date</th>\n",
              "    </tr>\n",
              "  </thead>\n",
              "  <tbody>\n",
              "    <tr>\n",
              "      <th>0</th>\n",
              "      <td>15.959311</td>\n",
              "      <td>2017-01-03 12:00:00</td>\n",
              "    </tr>\n",
              "    <tr>\n",
              "      <th>1</th>\n",
              "      <td>16.775050</td>\n",
              "      <td>2017-01-06 12:00:00</td>\n",
              "    </tr>\n",
              "    <tr>\n",
              "      <th>2</th>\n",
              "      <td>16.424203</td>\n",
              "      <td>2017-01-09 12:00:00</td>\n",
              "    </tr>\n",
              "    <tr>\n",
              "      <th>3</th>\n",
              "      <td>15.747155</td>\n",
              "      <td>2017-01-12 12:00:00</td>\n",
              "    </tr>\n",
              "    <tr>\n",
              "      <th>4</th>\n",
              "      <td>15.236185</td>\n",
              "      <td>2017-01-15 12:00:00</td>\n",
              "    </tr>\n",
              "  </tbody>\n",
              "</table>\n",
              "</div>"
            ],
            "text/plain": [
              "         SSM                date\n",
              "0  15.959311 2017-01-03 12:00:00\n",
              "1  16.775050 2017-01-06 12:00:00\n",
              "2  16.424203 2017-01-09 12:00:00\n",
              "3  15.747155 2017-01-12 12:00:00\n",
              "4  15.236185 2017-01-15 12:00:00"
            ]
          },
          "metadata": {
            "tags": []
          },
          "execution_count": 57
        }
      ]
    },
    {
      "cell_type": "code",
      "metadata": {
        "id": "lkRcsosPUFEA",
        "colab": {
          "base_uri": "https://localhost:8080/"
        },
        "outputId": "f3abf35c-3b59-4d15-8fbe-61f0eac745bf"
      },
      "source": [
        "# Change index from 0, 1, 2 ... to dates 2017-01-03 ...\n",
        "ssm_df = ssm_df.set_index('date')\n",
        "ssm_df\n"
      ],
      "execution_count": null,
      "outputs": [
        {
          "output_type": "execute_result",
          "data": {
            "text/html": [
              "<div>\n",
              "<style scoped>\n",
              "    .dataframe tbody tr th:only-of-type {\n",
              "        vertical-align: middle;\n",
              "    }\n",
              "\n",
              "    .dataframe tbody tr th {\n",
              "        vertical-align: top;\n",
              "    }\n",
              "\n",
              "    .dataframe thead th {\n",
              "        text-align: right;\n",
              "    }\n",
              "</style>\n",
              "<table border=\"1\" class=\"dataframe\">\n",
              "  <thead>\n",
              "    <tr style=\"text-align: right;\">\n",
              "      <th></th>\n",
              "      <th>SSM</th>\n",
              "    </tr>\n",
              "    <tr>\n",
              "      <th>date</th>\n",
              "      <th></th>\n",
              "    </tr>\n",
              "  </thead>\n",
              "  <tbody>\n",
              "    <tr>\n",
              "      <th>2017-01-03 12:00:00</th>\n",
              "      <td>15.959311</td>\n",
              "    </tr>\n",
              "    <tr>\n",
              "      <th>2017-01-06 12:00:00</th>\n",
              "      <td>16.775050</td>\n",
              "    </tr>\n",
              "    <tr>\n",
              "      <th>2017-01-09 12:00:00</th>\n",
              "      <td>16.424203</td>\n",
              "    </tr>\n",
              "    <tr>\n",
              "      <th>2017-01-12 12:00:00</th>\n",
              "      <td>15.747155</td>\n",
              "    </tr>\n",
              "    <tr>\n",
              "      <th>2017-01-15 12:00:00</th>\n",
              "      <td>15.236185</td>\n",
              "    </tr>\n",
              "    <tr>\n",
              "      <th>...</th>\n",
              "      <td>...</td>\n",
              "    </tr>\n",
              "    <tr>\n",
              "      <th>2017-12-17 12:00:00</th>\n",
              "      <td>18.795176</td>\n",
              "    </tr>\n",
              "    <tr>\n",
              "      <th>2017-12-20 12:00:00</th>\n",
              "      <td>18.500953</td>\n",
              "    </tr>\n",
              "    <tr>\n",
              "      <th>2017-12-23 12:00:00</th>\n",
              "      <td>18.064526</td>\n",
              "    </tr>\n",
              "    <tr>\n",
              "      <th>2017-12-26 12:00:00</th>\n",
              "      <td>18.213604</td>\n",
              "    </tr>\n",
              "    <tr>\n",
              "      <th>2017-12-29 12:00:00</th>\n",
              "      <td>18.788075</td>\n",
              "    </tr>\n",
              "  </tbody>\n",
              "</table>\n",
              "<p>121 rows × 1 columns</p>\n",
              "</div>"
            ],
            "text/plain": [
              "                           SSM\n",
              "date                          \n",
              "2017-01-03 12:00:00  15.959311\n",
              "2017-01-06 12:00:00  16.775050\n",
              "2017-01-09 12:00:00  16.424203\n",
              "2017-01-12 12:00:00  15.747155\n",
              "2017-01-15 12:00:00  15.236185\n",
              "...                        ...\n",
              "2017-12-17 12:00:00  18.795176\n",
              "2017-12-20 12:00:00  18.500953\n",
              "2017-12-23 12:00:00  18.064526\n",
              "2017-12-26 12:00:00  18.213604\n",
              "2017-12-29 12:00:00  18.788075\n",
              "\n",
              "[121 rows x 1 columns]"
            ]
          },
          "metadata": {
            "tags": []
          },
          "execution_count": 58
        }
      ]
    },
    {
      "cell_type": "code",
      "metadata": {
        "colab": {
          "base_uri": "https://localhost:8080/"
        },
        "id": "-kgCCNDgtmk2",
        "outputId": "4345c611-e545-4fee-8f65-4137d7c6b8b0"
      },
      "source": [
        "# Check datatype of each column\n",
        "ssm_df.dtypes\n"
      ],
      "execution_count": null,
      "outputs": [
        {
          "output_type": "execute_result",
          "data": {
            "text/plain": [
              "SSM    float64\n",
              "dtype: object"
            ]
          },
          "metadata": {
            "tags": []
          },
          "execution_count": 59
        }
      ]
    },
    {
      "cell_type": "markdown",
      "metadata": {
        "id": "iunkxQIPtupz"
      },
      "source": [
        "#Graphing w/ matplotlib.pyplot\n",
        "\n",
        "The 'altair' library is another option: more examples in [GEE Developers Time Series Visualization w/ Altair](https://developers.google.com/earth-engine/tutorials/community/time-series-visualization-with-altair#drought_severity): calendar heatmap, bar chart with drought severity and other datasets like modis ndvi and\n",
        "\n",
        "Referencing [WorldBank Mod4.1 Time Series Charts](https://worldbank.github.io/OpenNightLights/tutorials/mod4_1_time_series_charts.html) "
      ]
    },
    {
      "cell_type": "code",
      "metadata": {
        "colab": {
          "base_uri": "https://localhost:8080/"
        },
        "id": "PlNqnrWdtwrg",
        "outputId": "1dc040a5-acf4-4111-f04f-84cf4442ae7c"
      },
      "source": [
        "# Create a figure with pyplot and set the dimensions to 15 x 7\n",
        "fig, ax = plt.subplots(figsize=(15,7))\n",
        "\n",
        "# Create the plot by setting our dataframe to the data argument\n",
        "sns.lineplot(data=ssm_df, ax=ax)\n",
        "\n",
        "# Set the labels and title\n",
        "ax.set_ylabel('SSM (mm)',fontsize=20)\n",
        "ax.set_xlabel('Date',fontsize=20)\n",
        "ax.set_title('Surface Soil Moisture in Florida-Carribean Region (Time Series 2017)',fontsize=20);"
      ],
      "execution_count": null,
      "outputs": [
        {
          "output_type": "display_data",
          "data": {
            "image/png": "[encoded data removed]",
            "text/plain": [
              "<Figure size 1080x504 with 1 Axes>"
            ]
          },
          "metadata": {
            "tags": [],
            "needs_background": "light"
          }
        }
      ]
    },
    {
      "cell_type": "code",
      "metadata": {
        "colab": {
          "base_uri": "https://localhost:8080/"
        },
        "id": "qBH2XSdcUWlp",
        "outputId": "1653ae0b-7e96-4459-b7a4-5ada25d40bf0"
      },
      "source": [
        "# Addtional dataframe observations: peak\n",
        "ssm_df.idxmax() # in this case, we see highest surface soil moisture (ssm) on 10/9/2017 \n",
        "\n",
        "# https://pandas.pydata.org/docs/reference/api/pandas.DataFrame.html (Other DataFrame functions here)"
      ],
      "execution_count": null,
      "outputs": [
        {
          "output_type": "execute_result",
          "data": {
            "text/plain": [
              "SSM   2017-10-09 12:00:00\n",
              "dtype: datetime64[ns]"
            ]
          },
          "metadata": {
            "tags": []
          },
          "execution_count": 61
        }
      ]
    },
    {
      "cell_type": "code",
      "metadata": {
        "colab": {
          "base_uri": "https://localhost:8080/"
        },
        "id": "0qyeVAcZUq9X",
        "outputId": "bacdaab6-aad7-49be-8746-a423cbf36ba0"
      },
      "source": [
        "# If you want to smooth out time series :\n",
        "fig, ax = plt.subplots(figsize=(15,7))\n",
        "\n",
        "# Plot the moving averate using \".rolling\" and set a window of 12 months\n",
        "window=12 # the higher the window, the smoother\n",
        "sns.lineplot(data=ssm_df.rolling(window).mean(), ax=ax)\n",
        "\n",
        "# Set the labels and title\n",
        "ax.set_ylabel('SSM (mm)',fontsize=20)\n",
        "ax.set_xlabel('Date',fontsize=20)\n",
        "ax.set_title(f'Surface Soil Moisture in Florida-Carribean Region (Time Series 2017) ({window} moving avg.) ',fontsize=20);"
      ],
      "execution_count": null,
      "outputs": [
        {
          "output_type": "display_data",
          "data": {
            "image/png": "[encoded data removed]",
            "text/plain": [
              "<Figure size 1080x504 with 1 Axes>"
            ]
          },
          "metadata": {
            "tags": [],
            "needs_background": "light"
          }
        }
      ]
    },
    {
      "cell_type": "markdown",
      "metadata": {
        "id": "zrNIrHYEkNUN"
      },
      "source": [
        "Congratulations! The dataset has been rearranged into a pandas DataFrame and graphed using matplotlib. "
      ]
    },
    {
      "cell_type": "markdown",
      "metadata": {
        "id": "OOMMgAX7j_5r"
      },
      "source": [
        "#Additional Datasets: Global Precipitation Measurement\n",
        "\n",
        "The above code can be modified to fit other datasets. \n",
        "\n",
        "However, datasets vary greatly such as the frequency of the data over time. We can adjust timeframes or even resample the data to fit our desired time intervals.\n"
      ]
    },
    {
      "cell_type": "markdown",
      "metadata": {
        "id": "9RHDVbws-Y-k"
      },
      "source": [
        "#Resampling Example (30 min -> 3 day increment) - GPM: Global Precipitation Measurement (GPM) v6\n",
        "The 'ssm' imageCollection had a frequency of every 3 days making a nice annual time series. If we want to compare surface soil moisture with precipitation, we will need to modify the 'GPM: Global Precipitation Measurement (GPM) v6' data from every 30 min to every 3 days. \n",
        "- Changing frequency of data in DataFrame.\n",
        "- The available precipitation datasets are: \n",
        "  - [GPM: Global Precipitation Measurement (GPM) v6](https://developers.google.com/earth-engine/datasets/catalog/NASA_GPM_L3_IMERG_V06) - too frequent (every 30 min)\n",
        "  - [GPM: Monthly Global Precipitation Measurement (GPM) v6](https://developers.google.com/earth-engine/datasets/catalog/NASA_GPM_L3_IMERG_MONTHLY_V06) - not frequent enough (every month)\n",
        "\n",
        "- We will use a resampling function, after arranging the pandas DataFrame, to convert the 'GPM: Global Precipitation Measurement (GPM) v6' data from 30 min to 3 day increments."
      ]
    },
    {
      "cell_type": "markdown",
      "metadata": {
        "id": "QXizC7lrvnLf"
      },
      "source": [
        ""
      ]
    },
    {
      "cell_type": "code",
      "metadata": {
        "id": "Z3Vbasi--Y-l"
      },
      "source": [
        "#Image Collection and AOI\n",
        "\n",
        "precip3D = ee.ImageCollection(\"NASA/GPM_L3/IMERG_V06\").filterDate('2017-01-01','2017-12-31').select('precipitationCal')\n",
        "aoi = ee.Geometry.Polygon([[-88.20, 30.99], [-59.68, 20.06] , [-62.45, 8.09] , [-86.48, 14.29]]) #4 sided polygon with Florida, Puerto Rico, Carribean area within"
      ],
      "execution_count": null,
      "outputs": []
    },
    {
      "cell_type": "code",
      "metadata": {
        "id": "jDG981mg-Y-l"
      },
      "source": [
        "# Apply region reduction function (if you haven't already, make sure to run cell defining function above)\n",
        "reduce_precip3D = create_reduce_region_function(\n",
        "    geometry=aoi, reducer=ee.Reducer.mean(), scale=11100) #, crs='EPSG:3310'\n",
        "\n",
        "precip3D_stat_fc = ee.FeatureCollection(precip3D.map(reduce_precip3D)).filter(\n",
        "    ee.Filter.notNull(precip3D.first().bandNames()))"
      ],
      "execution_count": null,
      "outputs": []
    },
    {
      "cell_type": "code",
      "metadata": {
        "id": "r-ALE1CuYHSk"
      },
      "source": [
        "# Apply fc_to_dict function (if you haven't already, make sure to run cell defining function above) \n",
        "# Note: Large dataset - feel free to shorten date range\n",
        "precip3D_dict = fc_to_dict(precip3D_stat_fc).getInfo() "
      ],
      "execution_count": null,
      "outputs": []
    },
    {
      "cell_type": "code",
      "metadata": {
        "id": "kwMnfkAMqaHN"
      },
      "source": [
        "# Check the format of the dictionary\n",
        "print(type(precip3D_dict), '\\n')\n",
        "for prop in precip3D_dict.keys():\n",
        "    print(prop + ':', precip3D_dict[prop][0:3] + ['...'])"
      ],
      "execution_count": null,
      "outputs": []
    },
    {
      "cell_type": "code",
      "metadata": {
        "id": "7rmWnrBP-Y-l"
      },
      "source": [
        "# Python dict to pandas\n",
        "\n",
        "# Convert the Python dictionary to a pandas DataFrame.\n",
        "precip3D_df = pd.DataFrame(precip3D_dict) #df stands for DataFrame\n",
        "\n",
        "# Preview\n",
        "display(precip3D_df)\n",
        "print(precip3D_df.dtypes)"
      ],
      "execution_count": null,
      "outputs": []
    },
    {
      "cell_type": "code",
      "metadata": {
        "id": "tBrZl4nt-Y-m"
      },
      "source": [
        "# Function to add date variables to DataFrame \n",
        "def add_date_info(df):\n",
        "  df['Timestamp'] = pd.to_datetime(df['millis'], unit='ms') #important - changes from ms to timestamp\n",
        "  df['Year'] = pd.DatetimeIndex(df['Timestamp']).year\n",
        "  df['Month'] = pd.DatetimeIndex(df['Timestamp']).month\n",
        "  df['Day'] = pd.DatetimeIndex(df['Timestamp']).day\n",
        "  df['DOY'] = pd.DatetimeIndex(df['Timestamp']).dayofyear\n",
        "  return df"
      ],
      "execution_count": null,
      "outputs": []
    },
    {
      "cell_type": "code",
      "metadata": {
        "id": "85xEjEOl-Y-m"
      },
      "source": [
        "# Apply add_date_info function \n",
        "precip3D_df = add_date_info(precip3D_df)\n",
        "\n",
        "# Preview\n",
        "precip3D_df.head(5)"
      ],
      "execution_count": null,
      "outputs": []
    },
    {
      "cell_type": "code",
      "metadata": {
        "id": "LD12vaXG-Y-m"
      },
      "source": [
        "# Change precipitationCal to Precipitation, remove other columns\n",
        "precip3D_df = precip3D_df.rename(columns={\n",
        "    'precipitationCal': 'Precipitation',\n",
        "}).drop(columns=['millis', 'system:index','Year','Month','Day','DOY'])\n",
        "\n",
        "# Change timestamp to date\n",
        "precip3D_df = precip3D_df.rename(columns={\n",
        "    'Timestamp': 'Date'\n",
        "})\n",
        "\n",
        "# Preview\n",
        "precip3D_df.head(5) \n"
      ],
      "execution_count": null,
      "outputs": []
    },
    {
      "cell_type": "code",
      "metadata": {
        "id": "f2hYC4zH-Y-m"
      },
      "source": [
        "# Change index from 0, 1, 2 ... to dates 2017-01-03 ...\n",
        "precip3D_df = precip3D_df.set_index('Date')\n",
        "\n",
        "#Preview\n",
        "precip3D_df"
      ],
      "execution_count": null,
      "outputs": []
    },
    {
      "cell_type": "code",
      "metadata": {
        "id": "fRicHtVG-Y-n"
      },
      "source": [
        "# Check datatype of each column\n",
        "precip3D_df.dtypes"
      ],
      "execution_count": null,
      "outputs": []
    },
    {
      "cell_type": "markdown",
      "metadata": {
        "id": "_njoSow4-Y-n"
      },
      "source": [
        "##\"Resampling\" dataframe \n",
        "Pandas documentation for [resampling or converting a time series to a particular frequency](https://pandas.pydata.org/pandas-docs/stable/user_guide/timeseries.html)\n"
      ]
    },
    {
      "cell_type": "markdown",
      "metadata": {
        "id": "g1h_yhZwsWmT"
      },
      "source": [
        "The original dataframe has many thousands of rows since our time of interest is 1 year and measurements were taken every 30 min."
      ]
    },
    {
      "cell_type": "markdown",
      "metadata": {
        "id": "rmhlLa2Urju4"
      },
      "source": [
        "Pandas resample function:\n",
        "\n",
        "\n",
        "```\n",
        "new_df = df.resample(\"3D\").mean()\n",
        "```\n",
        "3D = 3 days\n",
        "- For example, if you want to resample to every 2 hours, replace \"3D\" with \"2H\".\n"
      ]
    },
    {
      "cell_type": "code",
      "metadata": {
        "id": "6t9_-Kkf-Y-o"
      },
      "source": [
        "# Apply pandas resample function\n",
        "precip3D_df = precip3D_df.resample(\"3D\").mean() \n",
        "\n",
        "# \"3D\" is the \"frequency\" argument - so you can go \"H\" for hour, etc\n",
        "precip3D_df"
      ],
      "execution_count": null,
      "outputs": []
    },
    {
      "cell_type": "markdown",
      "metadata": {
        "id": "3BS3CAQrsKWr"
      },
      "source": [
        "The data has now been resampled. We went from 17472 rows to 122 rows."
      ]
    },
    {
      "cell_type": "code",
      "metadata": {
        "id": "85SUAlz_-Y-o"
      },
      "source": [
        "# Graphing precip3D\n",
        "\n",
        "# Create a figure with pyplot and set the dimensions to 15 x 7\n",
        "fig, ax = plt.subplots(figsize=(15,7))\n",
        "\n",
        "# Create the plot by setting our dataframe to the data argument\n",
        "sns.lineplot(data=precip3D_df, ax=ax)\n",
        "\n",
        "# Set the labels and title\n",
        "ax.set_ylabel('Precipitation (mm/hr)',fontsize=20)\n",
        "ax.set_xlabel('Date',fontsize=20)\n",
        "ax.set_title('Calibrated Precipitation in Florida-Carribean Region (Time Series 2017 (each 3days))',fontsize=20);"
      ],
      "execution_count": null,
      "outputs": []
    },
    {
      "cell_type": "code",
      "metadata": {
        "id": "A87j4Gs_BFjS"
      },
      "source": [
        "# If you want to smooth out time series :\n",
        "fig, ax = plt.subplots(figsize=(15,7))\n",
        "\n",
        "# Plot the moving averate using \".rolling\" and set a window of 12 months\n",
        "window=12 # the higher the window, the smoother\n",
        "sns.lineplot(data=precip3D_df.rolling(window).mean(), ax=ax)\n",
        "\n",
        "# Set the labels and title\n",
        "ax.set_ylabel('Precipitation (mm/hr)',fontsize=20)\n",
        "ax.set_xlabel('Date',fontsize=20)\n",
        "ax.set_title(f'Calibrated Precipitation in Florida-Carribean Region (Time Series 2017 (each 3days) ({window} moving avg.) ',fontsize=20);"
      ],
      "execution_count": null,
      "outputs": []
    },
    {
      "cell_type": "code",
      "metadata": {
        "id": "wXK_E687BiBK"
      },
      "source": [
        "precip3D_df.idxmax() #peak rainfall on 2017-09-07 "
      ],
      "execution_count": null,
      "outputs": []
    },
    {
      "cell_type": "markdown",
      "metadata": {
        "id": "-QhEKMxIhJGk"
      },
      "source": [
        "#Smaller Timeframes Example - GPM: Global Precipitation Measurement (GPM) v6\n",
        "\n",
        "We can still use the original data (measurements every 30 min) for much smaller timeframes, such as a few days. \n",
        "\n",
        "[GPM: Global Precipitation Measurement (GPM) v6](https://developers.google.com/earth-engine/datasets/catalog/NASA_GPM_L3_IMERG_V06)"
      ]
    },
    {
      "cell_type": "code",
      "metadata": {
        "id": "lzoFXzUchMG1"
      },
      "source": [
        "#Image Collection and AOI\n",
        "precip = ee.ImageCollection(\"NASA/GPM_L3/IMERG_V06\").filterDate('2017-08-27','2017-08-31').select('precipitationCal') #August 27-31, 2017\n",
        "aoi = ee.Geometry.Polygon([[-88.20, 30.99], [-59.68, 20.06] , [-62.45, 8.09] , [-86.48, 14.29]]) #4 sided polygon with Florida, Puerto Rico, Carribean area within"
      ],
      "execution_count": null,
      "outputs": []
    },
    {
      "cell_type": "code",
      "metadata": {
        "id": "R9PqDm1_hZIJ"
      },
      "source": [
        "# Apply region reduction function (if you haven't already, make sure to run cell defining function above)\n",
        "reduce_precip = create_reduce_region_function(\n",
        "    geometry=aoi, reducer=ee.Reducer.mean(), scale=11100) #, crs='EPSG:3310'\n",
        "\n",
        "precip_stat_fc = ee.FeatureCollection(precip.map(reduce_precip)).filter(\n",
        "    ee.Filter.notNull(precip.first().bandNames()))"
      ],
      "execution_count": null,
      "outputs": []
    },
    {
      "cell_type": "code",
      "metadata": {
        "id": "Yj1WOU2uhhHN"
      },
      "source": [
        "# Apply fc_to_dict function (if you haven't already, make sure to run cell defining function above)(if you haven't already, make sure to run cell defining function above)\n",
        "precip_dict = fc_to_dict(precip_stat_fc).getInfo()"
      ],
      "execution_count": null,
      "outputs": []
    },
    {
      "cell_type": "code",
      "metadata": {
        "id": "E0B3Nc2otAGP",
        "colab": {
          "base_uri": "https://localhost:8080/"
        },
        "outputId": "f3e29f00-1072-4681-a6dd-ec4827296c67"
      },
      "source": [
        "# Check the format of the dictionary\n",
        "print(type(precip_dict), '\\n')\n",
        "for prop in precip_dict.keys():\n",
        "    print(prop + ':', precip_dict[prop][0:3] + ['...'])"
      ],
      "execution_count": null,
      "outputs": [
        {
          "output_type": "stream",
          "text": [
            "<class 'dict'> \n",
            "\n",
            "millis: [1503792000000, 1503793800000, 1503795600000, '...']\n",
            "precipitationCal: [0.2170490901720058, 0.20592850181322375, 0.19105046148561053, '...']\n",
            "system:index: ['20170827000000', '20170827003000', '20170827010000', '...']\n"
          ],
          "name": "stdout"
        }
      ]
    },
    {
      "cell_type": "code",
      "metadata": {
        "id": "pViL2wizhtDj",
        "colab": {
          "base_uri": "https://localhost:8080/"
        },
        "outputId": "a5c81eed-e5b3-41b6-f927-ce4eff0540ea"
      },
      "source": [
        "# Python dict to pandas\n",
        "\n",
        "# Convert the Python dictionary to a pandas DataFrame.\n",
        "precip_df = pd.DataFrame(precip_dict) #df stands for DataFrame\n",
        "\n",
        "# Preview\n",
        "display(precip_df)\n",
        "print(precip_df.dtypes)"
      ],
      "execution_count": null,
      "outputs": [
        {
          "output_type": "display_data",
          "data": {
            "text/html": [
              "<div>\n",
              "<style scoped>\n",
              "    .dataframe tbody tr th:only-of-type {\n",
              "        vertical-align: middle;\n",
              "    }\n",
              "\n",
              "    .dataframe tbody tr th {\n",
              "        vertical-align: top;\n",
              "    }\n",
              "\n",
              "    .dataframe thead th {\n",
              "        text-align: right;\n",
              "    }\n",
              "</style>\n",
              "<table border=\"1\" class=\"dataframe\">\n",
              "  <thead>\n",
              "    <tr style=\"text-align: right;\">\n",
              "      <th></th>\n",
              "      <th>millis</th>\n",
              "      <th>precipitationCal</th>\n",
              "      <th>system:index</th>\n",
              "    </tr>\n",
              "  </thead>\n",
              "  <tbody>\n",
              "    <tr>\n",
              "      <th>0</th>\n",
              "      <td>1503792000000</td>\n",
              "      <td>0.217049</td>\n",
              "      <td>20170827000000</td>\n",
              "    </tr>\n",
              "    <tr>\n",
              "      <th>1</th>\n",
              "      <td>1503793800000</td>\n",
              "      <td>0.205929</td>\n",
              "      <td>20170827003000</td>\n",
              "    </tr>\n",
              "    <tr>\n",
              "      <th>2</th>\n",
              "      <td>1503795600000</td>\n",
              "      <td>0.191050</td>\n",
              "      <td>20170827010000</td>\n",
              "    </tr>\n",
              "    <tr>\n",
              "      <th>3</th>\n",
              "      <td>1503797400000</td>\n",
              "      <td>0.179802</td>\n",
              "      <td>20170827013000</td>\n",
              "    </tr>\n",
              "    <tr>\n",
              "      <th>4</th>\n",
              "      <td>1503799200000</td>\n",
              "      <td>0.187929</td>\n",
              "      <td>20170827020000</td>\n",
              "    </tr>\n",
              "    <tr>\n",
              "      <th>...</th>\n",
              "      <td>...</td>\n",
              "      <td>...</td>\n",
              "      <td>...</td>\n",
              "    </tr>\n",
              "    <tr>\n",
              "      <th>187</th>\n",
              "      <td>1504128600000</td>\n",
              "      <td>0.180456</td>\n",
              "      <td>20170830213000</td>\n",
              "    </tr>\n",
              "    <tr>\n",
              "      <th>188</th>\n",
              "      <td>1504130400000</td>\n",
              "      <td>0.153787</td>\n",
              "      <td>20170830220000</td>\n",
              "    </tr>\n",
              "    <tr>\n",
              "      <th>189</th>\n",
              "      <td>1504132200000</td>\n",
              "      <td>0.140122</td>\n",
              "      <td>20170830223000</td>\n",
              "    </tr>\n",
              "    <tr>\n",
              "      <th>190</th>\n",
              "      <td>1504134000000</td>\n",
              "      <td>0.105688</td>\n",
              "      <td>20170830230000</td>\n",
              "    </tr>\n",
              "    <tr>\n",
              "      <th>191</th>\n",
              "      <td>1504135800000</td>\n",
              "      <td>0.088978</td>\n",
              "      <td>20170830233000</td>\n",
              "    </tr>\n",
              "  </tbody>\n",
              "</table>\n",
              "<p>192 rows × 3 columns</p>\n",
              "</div>"
            ],
            "text/plain": [
              "            millis  precipitationCal    system:index\n",
              "0    1503792000000          0.217049  20170827000000\n",
              "1    1503793800000          0.205929  20170827003000\n",
              "2    1503795600000          0.191050  20170827010000\n",
              "3    1503797400000          0.179802  20170827013000\n",
              "4    1503799200000          0.187929  20170827020000\n",
              "..             ...               ...             ...\n",
              "187  1504128600000          0.180456  20170830213000\n",
              "188  1504130400000          0.153787  20170830220000\n",
              "189  1504132200000          0.140122  20170830223000\n",
              "190  1504134000000          0.105688  20170830230000\n",
              "191  1504135800000          0.088978  20170830233000\n",
              "\n",
              "[192 rows x 3 columns]"
            ]
          },
          "metadata": {
            "tags": []
          }
        },
        {
          "output_type": "stream",
          "text": [
            "millis                int64\n",
            "precipitationCal    float64\n",
            "system:index         object\n",
            "dtype: object\n"
          ],
          "name": "stdout"
        }
      ]
    },
    {
      "cell_type": "code",
      "metadata": {
        "id": "fe0vYEohhz7O"
      },
      "source": [
        "# Function to add date variables to DataFrame.\n",
        "def add_date_info(df):\n",
        "  df['Timestamp'] = pd.to_datetime(df['millis'], unit='ms') #important - changes from ms to timestamp\n",
        "  df['Year'] = pd.DatetimeIndex(df['Timestamp']).year\n",
        "  df['Month'] = pd.DatetimeIndex(df['Timestamp']).month\n",
        "  df['Day'] = pd.DatetimeIndex(df['Timestamp']).day\n",
        "  df['DOY'] = pd.DatetimeIndex(df['Timestamp']).dayofyear\n",
        "  return df"
      ],
      "execution_count": null,
      "outputs": []
    },
    {
      "cell_type": "code",
      "metadata": {
        "id": "_jXi9z5wh6CY",
        "colab": {
          "base_uri": "https://localhost:8080/"
        },
        "outputId": "eed75835-4102-4df8-fae7-edbf4dd46a60"
      },
      "source": [
        "# Apply add_date_info function \n",
        "precip_df = add_date_info(precip_df)\n",
        "\n",
        "# Preview\n",
        "precip_df.head(5)"
      ],
      "execution_count": null,
      "outputs": [
        {
          "output_type": "execute_result",
          "data": {
            "text/html": [
              "<div>\n",
              "<style scoped>\n",
              "    .dataframe tbody tr th:only-of-type {\n",
              "        vertical-align: middle;\n",
              "    }\n",
              "\n",
              "    .dataframe tbody tr th {\n",
              "        vertical-align: top;\n",
              "    }\n",
              "\n",
              "    .dataframe thead th {\n",
              "        text-align: right;\n",
              "    }\n",
              "</style>\n",
              "<table border=\"1\" class=\"dataframe\">\n",
              "  <thead>\n",
              "    <tr style=\"text-align: right;\">\n",
              "      <th></th>\n",
              "      <th>millis</th>\n",
              "      <th>precipitationCal</th>\n",
              "      <th>system:index</th>\n",
              "      <th>Timestamp</th>\n",
              "      <th>Year</th>\n",
              "      <th>Month</th>\n",
              "      <th>Day</th>\n",
              "      <th>DOY</th>\n",
              "    </tr>\n",
              "  </thead>\n",
              "  <tbody>\n",
              "    <tr>\n",
              "      <th>0</th>\n",
              "      <td>1503792000000</td>\n",
              "      <td>0.217049</td>\n",
              "      <td>20170827000000</td>\n",
              "      <td>2017-08-27 00:00:00</td>\n",
              "      <td>2017</td>\n",
              "      <td>8</td>\n",
              "      <td>27</td>\n",
              "      <td>239</td>\n",
              "    </tr>\n",
              "    <tr>\n",
              "      <th>1</th>\n",
              "      <td>1503793800000</td>\n",
              "      <td>0.205929</td>\n",
              "      <td>20170827003000</td>\n",
              "      <td>2017-08-27 00:30:00</td>\n",
              "      <td>2017</td>\n",
              "      <td>8</td>\n",
              "      <td>27</td>\n",
              "      <td>239</td>\n",
              "    </tr>\n",
              "    <tr>\n",
              "      <th>2</th>\n",
              "      <td>1503795600000</td>\n",
              "      <td>0.191050</td>\n",
              "      <td>20170827010000</td>\n",
              "      <td>2017-08-27 01:00:00</td>\n",
              "      <td>2017</td>\n",
              "      <td>8</td>\n",
              "      <td>27</td>\n",
              "      <td>239</td>\n",
              "    </tr>\n",
              "    <tr>\n",
              "      <th>3</th>\n",
              "      <td>1503797400000</td>\n",
              "      <td>0.179802</td>\n",
              "      <td>20170827013000</td>\n",
              "      <td>2017-08-27 01:30:00</td>\n",
              "      <td>2017</td>\n",
              "      <td>8</td>\n",
              "      <td>27</td>\n",
              "      <td>239</td>\n",
              "    </tr>\n",
              "    <tr>\n",
              "      <th>4</th>\n",
              "      <td>1503799200000</td>\n",
              "      <td>0.187929</td>\n",
              "      <td>20170827020000</td>\n",
              "      <td>2017-08-27 02:00:00</td>\n",
              "      <td>2017</td>\n",
              "      <td>8</td>\n",
              "      <td>27</td>\n",
              "      <td>239</td>\n",
              "    </tr>\n",
              "  </tbody>\n",
              "</table>\n",
              "</div>"
            ],
            "text/plain": [
              "          millis  precipitationCal    system:index  ... Month  Day  DOY\n",
              "0  1503792000000          0.217049  20170827000000  ...     8   27  239\n",
              "1  1503793800000          0.205929  20170827003000  ...     8   27  239\n",
              "2  1503795600000          0.191050  20170827010000  ...     8   27  239\n",
              "3  1503797400000          0.179802  20170827013000  ...     8   27  239\n",
              "4  1503799200000          0.187929  20170827020000  ...     8   27  239\n",
              "\n",
              "[5 rows x 8 columns]"
            ]
          },
          "metadata": {
            "tags": []
          },
          "execution_count": 69
        }
      ]
    },
    {
      "cell_type": "code",
      "metadata": {
        "id": "53s1eik3h8NQ",
        "colab": {
          "base_uri": "https://localhost:8080/"
        },
        "outputId": "f254f1f1-1601-4c54-90af-fd7b98678d9f"
      },
      "source": [
        "# Change ssm to SSM, remove other columns\n",
        "precip_df = precip_df.rename(columns={\n",
        "    'precipitationCal': 'Precipitation',\n",
        "}).drop(columns=['millis', 'system:index','Year','Month','Day','DOY'])\n",
        "\n",
        "# Change timestamp to date\n",
        "precip_df = precip_df.rename(columns={\n",
        "    'Timestamp': 'Date'\n",
        "})\n",
        "\n",
        "# Preview\n",
        "precip_df.head(5) \n"
      ],
      "execution_count": null,
      "outputs": [
        {
          "output_type": "execute_result",
          "data": {
            "text/html": [
              "<div>\n",
              "<style scoped>\n",
              "    .dataframe tbody tr th:only-of-type {\n",
              "        vertical-align: middle;\n",
              "    }\n",
              "\n",
              "    .dataframe tbody tr th {\n",
              "        vertical-align: top;\n",
              "    }\n",
              "\n",
              "    .dataframe thead th {\n",
              "        text-align: right;\n",
              "    }\n",
              "</style>\n",
              "<table border=\"1\" class=\"dataframe\">\n",
              "  <thead>\n",
              "    <tr style=\"text-align: right;\">\n",
              "      <th></th>\n",
              "      <th>Precipitation</th>\n",
              "      <th>Date</th>\n",
              "    </tr>\n",
              "  </thead>\n",
              "  <tbody>\n",
              "    <tr>\n",
              "      <th>0</th>\n",
              "      <td>0.217049</td>\n",
              "      <td>2017-08-27 00:00:00</td>\n",
              "    </tr>\n",
              "    <tr>\n",
              "      <th>1</th>\n",
              "      <td>0.205929</td>\n",
              "      <td>2017-08-27 00:30:00</td>\n",
              "    </tr>\n",
              "    <tr>\n",
              "      <th>2</th>\n",
              "      <td>0.191050</td>\n",
              "      <td>2017-08-27 01:00:00</td>\n",
              "    </tr>\n",
              "    <tr>\n",
              "      <th>3</th>\n",
              "      <td>0.179802</td>\n",
              "      <td>2017-08-27 01:30:00</td>\n",
              "    </tr>\n",
              "    <tr>\n",
              "      <th>4</th>\n",
              "      <td>0.187929</td>\n",
              "      <td>2017-08-27 02:00:00</td>\n",
              "    </tr>\n",
              "  </tbody>\n",
              "</table>\n",
              "</div>"
            ],
            "text/plain": [
              "   Precipitation                Date\n",
              "0       0.217049 2017-08-27 00:00:00\n",
              "1       0.205929 2017-08-27 00:30:00\n",
              "2       0.191050 2017-08-27 01:00:00\n",
              "3       0.179802 2017-08-27 01:30:00\n",
              "4       0.187929 2017-08-27 02:00:00"
            ]
          },
          "metadata": {
            "tags": []
          },
          "execution_count": 70
        }
      ]
    },
    {
      "cell_type": "code",
      "metadata": {
        "id": "uwX9vcf5iBWb",
        "colab": {
          "base_uri": "https://localhost:8080/"
        },
        "outputId": "1c650f05-623b-4b34-9365-e819848baf3d"
      },
      "source": [
        "# Change index from 0, 1, 2 ... to dates 2017-08-27 ...\n",
        "precip_df = precip_df.set_index('Date')\n",
        "\n",
        "# Preview\n",
        "precip_df"
      ],
      "execution_count": null,
      "outputs": [
        {
          "output_type": "execute_result",
          "data": {
            "text/html": [
              "<div>\n",
              "<style scoped>\n",
              "    .dataframe tbody tr th:only-of-type {\n",
              "        vertical-align: middle;\n",
              "    }\n",
              "\n",
              "    .dataframe tbody tr th {\n",
              "        vertical-align: top;\n",
              "    }\n",
              "\n",
              "    .dataframe thead th {\n",
              "        text-align: right;\n",
              "    }\n",
              "</style>\n",
              "<table border=\"1\" class=\"dataframe\">\n",
              "  <thead>\n",
              "    <tr style=\"text-align: right;\">\n",
              "      <th></th>\n",
              "      <th>Precipitation</th>\n",
              "    </tr>\n",
              "    <tr>\n",
              "      <th>Date</th>\n",
              "      <th></th>\n",
              "    </tr>\n",
              "  </thead>\n",
              "  <tbody>\n",
              "    <tr>\n",
              "      <th>2017-08-27 00:00:00</th>\n",
              "      <td>0.217049</td>\n",
              "    </tr>\n",
              "    <tr>\n",
              "      <th>2017-08-27 00:30:00</th>\n",
              "      <td>0.205929</td>\n",
              "    </tr>\n",
              "    <tr>\n",
              "      <th>2017-08-27 01:00:00</th>\n",
              "      <td>0.191050</td>\n",
              "    </tr>\n",
              "    <tr>\n",
              "      <th>2017-08-27 01:30:00</th>\n",
              "      <td>0.179802</td>\n",
              "    </tr>\n",
              "    <tr>\n",
              "      <th>2017-08-27 02:00:00</th>\n",
              "      <td>0.187929</td>\n",
              "    </tr>\n",
              "    <tr>\n",
              "      <th>...</th>\n",
              "      <td>...</td>\n",
              "    </tr>\n",
              "    <tr>\n",
              "      <th>2017-08-30 21:30:00</th>\n",
              "      <td>0.180456</td>\n",
              "    </tr>\n",
              "    <tr>\n",
              "      <th>2017-08-30 22:00:00</th>\n",
              "      <td>0.153787</td>\n",
              "    </tr>\n",
              "    <tr>\n",
              "      <th>2017-08-30 22:30:00</th>\n",
              "      <td>0.140122</td>\n",
              "    </tr>\n",
              "    <tr>\n",
              "      <th>2017-08-30 23:00:00</th>\n",
              "      <td>0.105688</td>\n",
              "    </tr>\n",
              "    <tr>\n",
              "      <th>2017-08-30 23:30:00</th>\n",
              "      <td>0.088978</td>\n",
              "    </tr>\n",
              "  </tbody>\n",
              "</table>\n",
              "<p>192 rows × 1 columns</p>\n",
              "</div>"
            ],
            "text/plain": [
              "                     Precipitation\n",
              "Date                              \n",
              "2017-08-27 00:00:00       0.217049\n",
              "2017-08-27 00:30:00       0.205929\n",
              "2017-08-27 01:00:00       0.191050\n",
              "2017-08-27 01:30:00       0.179802\n",
              "2017-08-27 02:00:00       0.187929\n",
              "...                            ...\n",
              "2017-08-30 21:30:00       0.180456\n",
              "2017-08-30 22:00:00       0.153787\n",
              "2017-08-30 22:30:00       0.140122\n",
              "2017-08-30 23:00:00       0.105688\n",
              "2017-08-30 23:30:00       0.088978\n",
              "\n",
              "[192 rows x 1 columns]"
            ]
          },
          "metadata": {
            "tags": []
          },
          "execution_count": 71
        }
      ]
    },
    {
      "cell_type": "code",
      "metadata": {
        "id": "sCekpTHziG81",
        "colab": {
          "base_uri": "https://localhost:8080/"
        },
        "outputId": "961a52f3-554a-470e-f44c-fe50e2b67fc9"
      },
      "source": [
        "# Check datatype of each column.\n",
        "precip_df.dtypes"
      ],
      "execution_count": null,
      "outputs": [
        {
          "output_type": "execute_result",
          "data": {
            "text/plain": [
              "Precipitation    float64\n",
              "dtype: object"
            ]
          },
          "metadata": {
            "tags": []
          },
          "execution_count": 72
        }
      ]
    },
    {
      "cell_type": "code",
      "metadata": {
        "id": "MppTQ3wDiHts",
        "colab": {
          "base_uri": "https://localhost:8080/"
        },
        "outputId": "5da025ee-a19b-4151-d63b-8616ac31fb41"
      },
      "source": [
        "# # Graphing ssm (year)\n",
        "\n",
        "# # Create a figure with pyplot and set the dimensions to 15 x 7\n",
        "# fig, ax = plt.subplots(figsize=(15,7))\n",
        "\n",
        "# # Create the plot by setting our dataframe to the data argument\n",
        "# sns.lineplot(data=ssm_df, ax=ax)\n",
        "\n",
        "# # Set the labels and title\n",
        "# ax.set_ylabel('SSM (mm)',fontsize=20)\n",
        "# ax.set_xlabel('Date',fontsize=20)\n",
        "# ax.set_title('Surface Soil Moisture in Florida-Carribean Region (Time Series 2017)',fontsize=20);\n",
        "\n",
        "# Graphing precipCal\n",
        "\n",
        "# Create a figure with pyplot and set the dimensions to 15 x 7\n",
        "fig, ax = plt.subplots(figsize=(15,7))\n",
        "\n",
        "# Create the plot by setting our dataframe to the data argument\n",
        "sns.lineplot(data=precip_df, ax=ax)\n",
        "\n",
        "# Set the labels and title\n",
        "ax.set_ylabel('Precipitation (mm/hr)',fontsize=20)\n",
        "ax.set_xlabel('Date',fontsize=20)\n",
        "ax.set_title('Calibrated Precipitation in Florida-Carribean Region (Time Series 8/27-31/2021)',fontsize=20);"
      ],
      "execution_count": null,
      "outputs": [
        {
          "output_type": "display_data",
          "data": {
            "image/png": "[encoded data removed]",
            "text/plain": [
              "<Figure size 1080x504 with 1 Axes>"
            ]
          },
          "metadata": {
            "tags": [],
            "needs_background": "light"
          }
        }
      ]
    },
    {
      "cell_type": "markdown",
      "metadata": {
        "id": "lv8Fq4aM-YNK"
      },
      "source": [
        "#Time Series Animation\n",
        "Use geemap video features to create downloadble gif animation from imageCollection.\n",
        "\n",
        "##References:\n",
        "- [Create Landsat Timelapse](https://github.com/giswqs/geemap/blob/master/examples/notebooks/18_create_landsat_timelapse.ipynb)\n",
        "\n",
        "- [Exploring Seasonal Variations in Vegetation Cover around Indian Subcontinent](https://towardsdatascience.com/exploring-seasonal-variations-in-vegetation-cover-around-indian-subcontinent-dd9885edbf4)"
      ]
    },
    {
      "cell_type": "code",
      "metadata": {
        "id": "STq05Ni3MqXN"
      },
      "source": [
        "import os"
      ],
      "execution_count": null,
      "outputs": []
    },
    {
      "cell_type": "code",
      "metadata": {
        "id": "JA9VHZRzM_Ik"
      },
      "source": [
        "ssm = ee.ImageCollection(\"NASA_USDA/HSL/SMAP10KM_soil_moisture\").filterDate('2017-01-01','2018-01-01').select('ssm')\n",
        "aoi = ee.Geometry.Polygon([[-88.20, 30.99], [-59.68, 20.06] , [-62.45, 8.09] , [-86.48, 14.29]]) #4 sided polygon with Florida, Puerto Rico, Carribean area within"
      ],
      "execution_count": null,
      "outputs": []
    },
    {
      "cell_type": "code",
      "metadata": {
        "id": "Nnv-z-xyNCap"
      },
      "source": [
        "video_args = {\n",
        "  'dimensions': 500,\n",
        "  'region': aoi_map,\n",
        "  'framesPerSecond': 10,\n",
        "  'bands': 'ssm',\n",
        "  'min': 0,\n",
        "  'max': 25.0,\n",
        "  'palette': ['0300ff', '418504', 'efff07', 'ff0303'], \n",
        "}"
      ],
      "execution_count": null,
      "outputs": []
    },
    {
      "cell_type": "code",
      "metadata": {
        "id": "HoxCk-XANGCe"
      },
      "source": [
        "work_dir = os.path.join(os.path.expanduser(\"~\"), 'Downloads')\n",
        "if not os.path.exists(work_dir):\n",
        "    os.makedirs(work_dir)\n",
        "out_gif = os.path.join(work_dir, \"ssm_ts.gif\")"
      ],
      "execution_count": null,
      "outputs": []
    },
    {
      "cell_type": "code",
      "metadata": {
        "id": "AkZf3JW5NHwL",
        "colab": {
          "base_uri": "https://localhost:8080/"
        },
        "outputId": "480002e4-478c-4c01-fb44-07b9e567ad5d"
      },
      "source": [
        "#Get link (displays in another tab)\n",
        "geemap.download_ee_video(ssm, video_args, out_gif)\n"
      ],
      "execution_count": null,
      "outputs": [
        {
          "output_type": "stream",
          "text": [
            "Generating URL...\n",
            "Downloading GIF image from https://earthengine.googleapis.com/v1alpha/projects/earthengine-legacy/videoThumbnails/ea966dc6511848a1c8196c22f11c9d94-0facbe9ad63a0a95beef41d6e32e3989:getPixels\n",
            "Please wait ...\n",
            "The GIF image has been saved to: /root/Downloads/ssm_ts.gif\n"
          ],
          "name": "stdout"
        }
      ]
    },
    {
      "cell_type": "code",
      "metadata": {
        "id": "DWBo4HjKNRiM",
        "colab": {
          "base_uri": "https://localhost:8080/",
          "referenced_widgets": [
            "0544bb319bad422084b6fec63b23c607",
            "5ae8b7769bdc4b5faf03fc2d73278c4d",
            "cc55fecbb03a4e6ba2cc5fa96fb7dc00",
            "c7f4ce1947b64bda946861f28498d4bf"
          ]
        },
        "outputId": "85eff14f-6115-4f68-e3c4-7ad4fbe7dce7"
      },
      "source": [
        "#Display here\n",
        "geemap.show_image(out_gif)"
      ],
      "execution_count": null,
      "outputs": [
        {
          "output_type": "display_data",
          "data": {
            "application/vnd.jupyter.widget-view+json": {
              "model_id": "0544bb319bad422084b6fec63b23c607",
              "version_minor": 0,
              "version_major": 2
            },
            "text/plain": [
              "Output()"
            ]
          },
          "metadata": {
            "tags": []
          }
        }
      ]
    },
    {
      "cell_type": "markdown",
      "metadata": {
        "id": "gk3OFk6mPJ1_"
      },
      "source": [
        "We can also add text:"
      ]
    },
    {
      "cell_type": "code",
      "metadata": {
        "id": "fa1Wq_-tVYGX"
      },
      "source": [
        "text = ['Jan-17','Jan-17','Jan-17','Jan-17','Jan-17','Jan-17','Jan-17','Jan-17','Jan-17','Jan-17', \\\n",
        "        'Feb-17','Feb-17','Feb-17','Feb-17','Feb-17','Feb-17','Feb-17','Feb-17','Feb-17','Feb-17',\\\n",
        "        'Mar-17','Mar-17','Mar-17','Mar-17','Mar-17','Mar-17','Mar-17','Mar-17','Mar-17','Mar-17',\\\n",
        "        'Apr-17','Apr-17','Apr-17','Apr-17','Apr-17','Apr-17','Apr-17','Apr-17','Apr-17','Apr-17',\\\n",
        "        'May-17','May-17','May-17','May-17','May-17','May-17','May-17','May-17','May-17','May-17',\\\n",
        "        'Jun-17','Jun-17','Jun-17','Jun-17','Jun-17','Jun-17','Jun-17','Jun-17','Jun-17','Jun-17',\\\n",
        "        'Jul-17','Jul-17','Jul-17','Jul-17','Jul-17','Jul-17','Jul-17','Jul-17','Jul-17','Jul-17',\\\n",
        "        'Aug-17','Aug-17','Aug-17','Aug-17','Aug-17','Aug-17','Aug-17','Aug-17','Aug-17', 'Aug-17',\\\n",
        "        'Sep-17','Sep-17','Sep-17','Sep-17','Sep-17','Sep-17','Sep-17','Sep-17','Sep-17','Sep-17',\\\n",
        "        'Oct-17','Oct-17','Oct-17','Oct-17','Oct-17','Oct-17','Oct-17','Oct-17','Oct-17','Oct-17',\\\n",
        "        'Nov-17','Nov-17','Nov-17','Nov-17','Nov-17','Nov-17','Nov-17','Nov-17','Nov-17','Nov-17',\\\n",
        "        'Dec-17','Dec-17','Dec-17','Dec-17','Dec-17','Dec-17','Dec-17','Dec-17','Dec-17','Dec-17','Jan-18'] #custom text sequence (SSM measured every 3 days) *note: needs to match number of images \n",
        "texted_gif = os.path.join(work_dir, \"ssm_ts.gif\")\n",
        "geemap.add_text_to_gif(out_gif, texted_gif, xy=('70%', '5%'), text_sequence = text, font_size=30, font_color='#ffffff', add_progress_bar=False)\n"
      ],
      "execution_count": null,
      "outputs": []
    },
    {
      "cell_type": "code",
      "metadata": {
        "id": "7MXwLrRHVcRl"
      },
      "source": [
        "label = 'SSM'\n",
        "geemap.add_text_to_gif(texted_gif, texted_gif, xy=('8%', '88%'), text_sequence=label, font_size=30, font_color='#ffffff', progress_bar_color='blue')"
      ],
      "execution_count": null,
      "outputs": []
    },
    {
      "cell_type": "code",
      "metadata": {
        "id": "rzc3b97hVf_t",
        "colab": {
          "base_uri": "https://localhost:8080/",
          "referenced_widgets": [
            "bee1aa63c6ca4e69ac68a968fbf5de36",
            "bc4bbcc52cc24edf96230c31e8291e35",
            "09fa4719a03a4b3dbcfb0022ddc3c9a0",
            "0cfb54edfb574d62897070619a74f013"
          ]
        },
        "outputId": "7928a9b4-4e85-4842-c3dc-3a26ec739e9f"
      },
      "source": [
        "geemap.show_image(texted_gif)"
      ],
      "execution_count": null,
      "outputs": [
        {
          "output_type": "display_data",
          "data": {
            "application/vnd.jupyter.widget-view+json": {
              "model_id": "bee1aa63c6ca4e69ac68a968fbf5de36",
              "version_minor": 0,
              "version_major": 2
            },
            "text/plain": [
              "Output()"
            ]
          },
          "metadata": {
            "tags": []
          }
        }
      ]
    }
  ]
}